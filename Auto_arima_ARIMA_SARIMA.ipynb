{
 "cells": [
  {
   "cell_type": "code",
   "execution_count": 1,
   "metadata": {
    "id": "RpzbqvOXMBUk"
   },
   "outputs": [],
   "source": [
    "import numpy as np\n",
    "import pandas as pd"
   ]
  },
  {
   "cell_type": "code",
   "execution_count": 2,
   "metadata": {
    "id": "HC-OJW93MzPa"
   },
   "outputs": [],
   "source": [
    "df = pd.read_csv('Reliance_5_years.csv')"
   ]
  },
  {
   "cell_type": "code",
   "execution_count": 3,
   "metadata": {
    "colab": {
     "base_uri": "https://localhost:8080/",
     "height": 374
    },
    "id": "R7rLXnMqM_ei",
    "outputId": "20b54210-5323-4331-a7ef-57c0f542e88b"
   },
   "outputs": [
    {
     "data": {
      "text/html": [
       "<div>\n",
       "<style scoped>\n",
       "    .dataframe tbody tr th:only-of-type {\n",
       "        vertical-align: middle;\n",
       "    }\n",
       "\n",
       "    .dataframe tbody tr th {\n",
       "        vertical-align: top;\n",
       "    }\n",
       "\n",
       "    .dataframe thead th {\n",
       "        text-align: right;\n",
       "    }\n",
       "</style>\n",
       "<table border=\"1\" class=\"dataframe\">\n",
       "  <thead>\n",
       "    <tr style=\"text-align: right;\">\n",
       "      <th></th>\n",
       "      <th>Date</th>\n",
       "      <th>Symbol</th>\n",
       "      <th>Series</th>\n",
       "      <th>Prev Close</th>\n",
       "      <th>Open</th>\n",
       "      <th>High</th>\n",
       "      <th>Low</th>\n",
       "      <th>Last</th>\n",
       "      <th>Close</th>\n",
       "      <th>VWAP</th>\n",
       "      <th>Volume</th>\n",
       "      <th>Turnover</th>\n",
       "      <th>Trades</th>\n",
       "      <th>Deliverable Volume</th>\n",
       "      <th>%Deliverble</th>\n",
       "    </tr>\n",
       "  </thead>\n",
       "  <tbody>\n",
       "    <tr>\n",
       "      <th>0</th>\n",
       "      <td>2017-01-02</td>\n",
       "      <td>RELIANCE</td>\n",
       "      <td>EQ</td>\n",
       "      <td>1082.40</td>\n",
       "      <td>1084.00</td>\n",
       "      <td>1090.0</td>\n",
       "      <td>1072.35</td>\n",
       "      <td>1086.70</td>\n",
       "      <td>1085.10</td>\n",
       "      <td>1086.63</td>\n",
       "      <td>1622458</td>\n",
       "      <td>1.763016e+14</td>\n",
       "      <td>38903</td>\n",
       "      <td>881915</td>\n",
       "      <td>0.5436</td>\n",
       "    </tr>\n",
       "    <tr>\n",
       "      <th>1</th>\n",
       "      <td>2017-01-03</td>\n",
       "      <td>RELIANCE</td>\n",
       "      <td>EQ</td>\n",
       "      <td>1085.10</td>\n",
       "      <td>1089.85</td>\n",
       "      <td>1097.0</td>\n",
       "      <td>1081.10</td>\n",
       "      <td>1089.00</td>\n",
       "      <td>1089.40</td>\n",
       "      <td>1091.74</td>\n",
       "      <td>1470751</td>\n",
       "      <td>1.605682e+14</td>\n",
       "      <td>31291</td>\n",
       "      <td>776985</td>\n",
       "      <td>0.5283</td>\n",
       "    </tr>\n",
       "    <tr>\n",
       "      <th>2</th>\n",
       "      <td>2017-01-04</td>\n",
       "      <td>RELIANCE</td>\n",
       "      <td>EQ</td>\n",
       "      <td>1089.40</td>\n",
       "      <td>1092.90</td>\n",
       "      <td>1093.0</td>\n",
       "      <td>1064.30</td>\n",
       "      <td>1067.15</td>\n",
       "      <td>1067.15</td>\n",
       "      <td>1072.39</td>\n",
       "      <td>2375547</td>\n",
       "      <td>2.547514e+14</td>\n",
       "      <td>70540</td>\n",
       "      <td>1516724</td>\n",
       "      <td>0.6385</td>\n",
       "    </tr>\n",
       "    <tr>\n",
       "      <th>3</th>\n",
       "      <td>2017-01-05</td>\n",
       "      <td>RELIANCE</td>\n",
       "      <td>EQ</td>\n",
       "      <td>1067.15</td>\n",
       "      <td>1071.00</td>\n",
       "      <td>1079.9</td>\n",
       "      <td>1068.75</td>\n",
       "      <td>1077.00</td>\n",
       "      <td>1077.40</td>\n",
       "      <td>1077.12</td>\n",
       "      <td>1996483</td>\n",
       "      <td>2.150452e+14</td>\n",
       "      <td>84058</td>\n",
       "      <td>1272212</td>\n",
       "      <td>0.6372</td>\n",
       "    </tr>\n",
       "    <tr>\n",
       "      <th>4</th>\n",
       "      <td>2017-01-06</td>\n",
       "      <td>RELIANCE</td>\n",
       "      <td>EQ</td>\n",
       "      <td>1077.40</td>\n",
       "      <td>1074.20</td>\n",
       "      <td>1085.0</td>\n",
       "      <td>1073.10</td>\n",
       "      <td>1073.95</td>\n",
       "      <td>1074.95</td>\n",
       "      <td>1078.77</td>\n",
       "      <td>1793427</td>\n",
       "      <td>1.934704e+14</td>\n",
       "      <td>66643</td>\n",
       "      <td>1121595</td>\n",
       "      <td>0.6254</td>\n",
       "    </tr>\n",
       "  </tbody>\n",
       "</table>\n",
       "</div>"
      ],
      "text/plain": [
       "         Date    Symbol Series  Prev Close     Open    High      Low     Last  \\\n",
       "0  2017-01-02  RELIANCE     EQ     1082.40  1084.00  1090.0  1072.35  1086.70   \n",
       "1  2017-01-03  RELIANCE     EQ     1085.10  1089.85  1097.0  1081.10  1089.00   \n",
       "2  2017-01-04  RELIANCE     EQ     1089.40  1092.90  1093.0  1064.30  1067.15   \n",
       "3  2017-01-05  RELIANCE     EQ     1067.15  1071.00  1079.9  1068.75  1077.00   \n",
       "4  2017-01-06  RELIANCE     EQ     1077.40  1074.20  1085.0  1073.10  1073.95   \n",
       "\n",
       "     Close     VWAP   Volume      Turnover  Trades  Deliverable Volume  \\\n",
       "0  1085.10  1086.63  1622458  1.763016e+14   38903              881915   \n",
       "1  1089.40  1091.74  1470751  1.605682e+14   31291              776985   \n",
       "2  1067.15  1072.39  2375547  2.547514e+14   70540             1516724   \n",
       "3  1077.40  1077.12  1996483  2.150452e+14   84058             1272212   \n",
       "4  1074.95  1078.77  1793427  1.934704e+14   66643             1121595   \n",
       "\n",
       "   %Deliverble  \n",
       "0       0.5436  \n",
       "1       0.5283  \n",
       "2       0.6385  \n",
       "3       0.6372  \n",
       "4       0.6254  "
      ]
     },
     "execution_count": 3,
     "metadata": {},
     "output_type": "execute_result"
    }
   ],
   "source": [
    "df.head()"
   ]
  },
  {
   "cell_type": "code",
   "execution_count": 4,
   "metadata": {
    "id": "6byCXyoHNAd-"
   },
   "outputs": [],
   "source": [
    "df= df.iloc[:,:9]"
   ]
  },
  {
   "cell_type": "code",
   "execution_count": 5,
   "metadata": {
    "colab": {
     "base_uri": "https://localhost:8080/",
     "height": 206
    },
    "id": "8BsuqiQONOyj",
    "outputId": "539b6740-c504-4d85-80a0-b4f3d4c513c7"
   },
   "outputs": [
    {
     "data": {
      "text/html": [
       "<div>\n",
       "<style scoped>\n",
       "    .dataframe tbody tr th:only-of-type {\n",
       "        vertical-align: middle;\n",
       "    }\n",
       "\n",
       "    .dataframe tbody tr th {\n",
       "        vertical-align: top;\n",
       "    }\n",
       "\n",
       "    .dataframe thead th {\n",
       "        text-align: right;\n",
       "    }\n",
       "</style>\n",
       "<table border=\"1\" class=\"dataframe\">\n",
       "  <thead>\n",
       "    <tr style=\"text-align: right;\">\n",
       "      <th></th>\n",
       "      <th>Date</th>\n",
       "      <th>Symbol</th>\n",
       "      <th>Series</th>\n",
       "      <th>Prev Close</th>\n",
       "      <th>Open</th>\n",
       "      <th>High</th>\n",
       "      <th>Low</th>\n",
       "      <th>Last</th>\n",
       "      <th>Close</th>\n",
       "    </tr>\n",
       "  </thead>\n",
       "  <tbody>\n",
       "    <tr>\n",
       "      <th>0</th>\n",
       "      <td>2017-01-02</td>\n",
       "      <td>RELIANCE</td>\n",
       "      <td>EQ</td>\n",
       "      <td>1082.40</td>\n",
       "      <td>1084.00</td>\n",
       "      <td>1090.0</td>\n",
       "      <td>1072.35</td>\n",
       "      <td>1086.70</td>\n",
       "      <td>1085.10</td>\n",
       "    </tr>\n",
       "    <tr>\n",
       "      <th>1</th>\n",
       "      <td>2017-01-03</td>\n",
       "      <td>RELIANCE</td>\n",
       "      <td>EQ</td>\n",
       "      <td>1085.10</td>\n",
       "      <td>1089.85</td>\n",
       "      <td>1097.0</td>\n",
       "      <td>1081.10</td>\n",
       "      <td>1089.00</td>\n",
       "      <td>1089.40</td>\n",
       "    </tr>\n",
       "    <tr>\n",
       "      <th>2</th>\n",
       "      <td>2017-01-04</td>\n",
       "      <td>RELIANCE</td>\n",
       "      <td>EQ</td>\n",
       "      <td>1089.40</td>\n",
       "      <td>1092.90</td>\n",
       "      <td>1093.0</td>\n",
       "      <td>1064.30</td>\n",
       "      <td>1067.15</td>\n",
       "      <td>1067.15</td>\n",
       "    </tr>\n",
       "    <tr>\n",
       "      <th>3</th>\n",
       "      <td>2017-01-05</td>\n",
       "      <td>RELIANCE</td>\n",
       "      <td>EQ</td>\n",
       "      <td>1067.15</td>\n",
       "      <td>1071.00</td>\n",
       "      <td>1079.9</td>\n",
       "      <td>1068.75</td>\n",
       "      <td>1077.00</td>\n",
       "      <td>1077.40</td>\n",
       "    </tr>\n",
       "    <tr>\n",
       "      <th>4</th>\n",
       "      <td>2017-01-06</td>\n",
       "      <td>RELIANCE</td>\n",
       "      <td>EQ</td>\n",
       "      <td>1077.40</td>\n",
       "      <td>1074.20</td>\n",
       "      <td>1085.0</td>\n",
       "      <td>1073.10</td>\n",
       "      <td>1073.95</td>\n",
       "      <td>1074.95</td>\n",
       "    </tr>\n",
       "  </tbody>\n",
       "</table>\n",
       "</div>"
      ],
      "text/plain": [
       "         Date    Symbol Series  Prev Close     Open    High      Low     Last  \\\n",
       "0  2017-01-02  RELIANCE     EQ     1082.40  1084.00  1090.0  1072.35  1086.70   \n",
       "1  2017-01-03  RELIANCE     EQ     1085.10  1089.85  1097.0  1081.10  1089.00   \n",
       "2  2017-01-04  RELIANCE     EQ     1089.40  1092.90  1093.0  1064.30  1067.15   \n",
       "3  2017-01-05  RELIANCE     EQ     1067.15  1071.00  1079.9  1068.75  1077.00   \n",
       "4  2017-01-06  RELIANCE     EQ     1077.40  1074.20  1085.0  1073.10  1073.95   \n",
       "\n",
       "     Close  \n",
       "0  1085.10  \n",
       "1  1089.40  \n",
       "2  1067.15  \n",
       "3  1077.40  \n",
       "4  1074.95  "
      ]
     },
     "execution_count": 5,
     "metadata": {},
     "output_type": "execute_result"
    }
   ],
   "source": [
    "df.head()"
   ]
  },
  {
   "cell_type": "code",
   "execution_count": 6,
   "metadata": {
    "colab": {
     "base_uri": "https://localhost:8080/"
    },
    "id": "9tQXKqE1NQXR",
    "outputId": "90a7d763-9148-4811-a335-555b5fe86354"
   },
   "outputs": [
    {
     "name": "stdout",
     "output_type": "stream",
     "text": [
      "<class 'pandas.core.frame.DataFrame'>\n",
      "RangeIndex: 1284 entries, 0 to 1283\n",
      "Data columns (total 9 columns):\n",
      " #   Column      Non-Null Count  Dtype  \n",
      "---  ------      --------------  -----  \n",
      " 0   Date        1284 non-null   object \n",
      " 1   Symbol      1284 non-null   object \n",
      " 2   Series      1284 non-null   object \n",
      " 3   Prev Close  1284 non-null   float64\n",
      " 4   Open        1284 non-null   float64\n",
      " 5   High        1284 non-null   float64\n",
      " 6   Low         1284 non-null   float64\n",
      " 7   Last        1284 non-null   float64\n",
      " 8   Close       1284 non-null   float64\n",
      "dtypes: float64(6), object(3)\n",
      "memory usage: 90.4+ KB\n"
     ]
    }
   ],
   "source": [
    "df.info()"
   ]
  },
  {
   "cell_type": "code",
   "execution_count": 7,
   "metadata": {
    "id": "Q4UxFqbOOIER"
   },
   "outputs": [],
   "source": [
    "# Converting to datetime datatype\n",
    "df['Date'] = pd.to_datetime(df['Date'])"
   ]
  },
  {
   "cell_type": "code",
   "execution_count": 8,
   "metadata": {
    "colab": {
     "base_uri": "https://localhost:8080/"
    },
    "id": "-Ja65DSRON1A",
    "outputId": "110d12af-1376-4abd-8dc9-3b690c7dd472"
   },
   "outputs": [
    {
     "name": "stdout",
     "output_type": "stream",
     "text": [
      "<class 'pandas.core.frame.DataFrame'>\n",
      "RangeIndex: 1284 entries, 0 to 1283\n",
      "Data columns (total 9 columns):\n",
      " #   Column      Non-Null Count  Dtype         \n",
      "---  ------      --------------  -----         \n",
      " 0   Date        1284 non-null   datetime64[ns]\n",
      " 1   Symbol      1284 non-null   object        \n",
      " 2   Series      1284 non-null   object        \n",
      " 3   Prev Close  1284 non-null   float64       \n",
      " 4   Open        1284 non-null   float64       \n",
      " 5   High        1284 non-null   float64       \n",
      " 6   Low         1284 non-null   float64       \n",
      " 7   Last        1284 non-null   float64       \n",
      " 8   Close       1284 non-null   float64       \n",
      "dtypes: datetime64[ns](1), float64(6), object(2)\n",
      "memory usage: 90.4+ KB\n"
     ]
    }
   ],
   "source": [
    "df.info()"
   ]
  },
  {
   "cell_type": "code",
   "execution_count": 9,
   "metadata": {
    "colab": {
     "base_uri": "https://localhost:8080/",
     "height": 206
    },
    "id": "TToEWG5APZR1",
    "outputId": "4e95a757-f29a-41a0-fa9a-bbf99699c8b7"
   },
   "outputs": [
    {
     "data": {
      "text/html": [
       "<div>\n",
       "<style scoped>\n",
       "    .dataframe tbody tr th:only-of-type {\n",
       "        vertical-align: middle;\n",
       "    }\n",
       "\n",
       "    .dataframe tbody tr th {\n",
       "        vertical-align: top;\n",
       "    }\n",
       "\n",
       "    .dataframe thead th {\n",
       "        text-align: right;\n",
       "    }\n",
       "</style>\n",
       "<table border=\"1\" class=\"dataframe\">\n",
       "  <thead>\n",
       "    <tr style=\"text-align: right;\">\n",
       "      <th></th>\n",
       "      <th>Date</th>\n",
       "      <th>Symbol</th>\n",
       "      <th>Series</th>\n",
       "      <th>Prev Close</th>\n",
       "      <th>Open</th>\n",
       "      <th>High</th>\n",
       "      <th>Low</th>\n",
       "      <th>Last</th>\n",
       "      <th>Close</th>\n",
       "    </tr>\n",
       "  </thead>\n",
       "  <tbody>\n",
       "    <tr>\n",
       "      <th>1279</th>\n",
       "      <td>2022-03-02</td>\n",
       "      <td>RELIANCE</td>\n",
       "      <td>EQ</td>\n",
       "      <td>2359.55</td>\n",
       "      <td>2334.45</td>\n",
       "      <td>2401.00</td>\n",
       "      <td>2329.20</td>\n",
       "      <td>2399.25</td>\n",
       "      <td>2398.55</td>\n",
       "    </tr>\n",
       "    <tr>\n",
       "      <th>1280</th>\n",
       "      <td>2022-03-03</td>\n",
       "      <td>RELIANCE</td>\n",
       "      <td>EQ</td>\n",
       "      <td>2398.55</td>\n",
       "      <td>2400.00</td>\n",
       "      <td>2414.85</td>\n",
       "      <td>2370.05</td>\n",
       "      <td>2382.00</td>\n",
       "      <td>2378.30</td>\n",
       "    </tr>\n",
       "    <tr>\n",
       "      <th>1281</th>\n",
       "      <td>2022-03-04</td>\n",
       "      <td>RELIANCE</td>\n",
       "      <td>EQ</td>\n",
       "      <td>2378.30</td>\n",
       "      <td>2353.00</td>\n",
       "      <td>2364.30</td>\n",
       "      <td>2320.35</td>\n",
       "      <td>2327.95</td>\n",
       "      <td>2325.55</td>\n",
       "    </tr>\n",
       "    <tr>\n",
       "      <th>1282</th>\n",
       "      <td>2022-03-07</td>\n",
       "      <td>RELIANCE</td>\n",
       "      <td>EQ</td>\n",
       "      <td>2325.55</td>\n",
       "      <td>2278.70</td>\n",
       "      <td>2312.10</td>\n",
       "      <td>2222.00</td>\n",
       "      <td>2240.05</td>\n",
       "      <td>2239.55</td>\n",
       "    </tr>\n",
       "    <tr>\n",
       "      <th>1283</th>\n",
       "      <td>2022-03-08</td>\n",
       "      <td>RELIANCE</td>\n",
       "      <td>EQ</td>\n",
       "      <td>2239.55</td>\n",
       "      <td>2211.50</td>\n",
       "      <td>2246.00</td>\n",
       "      <td>2180.00</td>\n",
       "      <td>2235.05</td>\n",
       "      <td>2235.50</td>\n",
       "    </tr>\n",
       "  </tbody>\n",
       "</table>\n",
       "</div>"
      ],
      "text/plain": [
       "           Date    Symbol Series  Prev Close     Open     High      Low  \\\n",
       "1279 2022-03-02  RELIANCE     EQ     2359.55  2334.45  2401.00  2329.20   \n",
       "1280 2022-03-03  RELIANCE     EQ     2398.55  2400.00  2414.85  2370.05   \n",
       "1281 2022-03-04  RELIANCE     EQ     2378.30  2353.00  2364.30  2320.35   \n",
       "1282 2022-03-07  RELIANCE     EQ     2325.55  2278.70  2312.10  2222.00   \n",
       "1283 2022-03-08  RELIANCE     EQ     2239.55  2211.50  2246.00  2180.00   \n",
       "\n",
       "         Last    Close  \n",
       "1279  2399.25  2398.55  \n",
       "1280  2382.00  2378.30  \n",
       "1281  2327.95  2325.55  \n",
       "1282  2240.05  2239.55  \n",
       "1283  2235.05  2235.50  "
      ]
     },
     "execution_count": 9,
     "metadata": {},
     "output_type": "execute_result"
    }
   ],
   "source": [
    "df.tail()"
   ]
  },
  {
   "cell_type": "code",
   "execution_count": 10,
   "metadata": {
    "colab": {
     "base_uri": "https://localhost:8080/"
    },
    "id": "Zw3p67SARB_e",
    "outputId": "ef133c86-c1bb-44ef-f198-c14250d23b52"
   },
   "outputs": [
    {
     "data": {
      "text/plain": [
       "(1284, 9)"
      ]
     },
     "execution_count": 10,
     "metadata": {},
     "output_type": "execute_result"
    }
   ],
   "source": [
    "df.shape"
   ]
  },
  {
   "cell_type": "code",
   "execution_count": 11,
   "metadata": {
    "colab": {
     "base_uri": "https://localhost:8080/"
    },
    "id": "shuuv8MvRJkP",
    "outputId": "01035a28-14bf-4d5e-ef12-d39030f1ea3c"
   },
   "outputs": [
    {
     "data": {
      "text/plain": [
       "(0, 9)"
      ]
     },
     "execution_count": 11,
     "metadata": {},
     "output_type": "execute_result"
    }
   ],
   "source": [
    "df[df.duplicated()].shape"
   ]
  },
  {
   "cell_type": "code",
   "execution_count": 12,
   "metadata": {
    "colab": {
     "base_uri": "https://localhost:8080/"
    },
    "id": "Z9Mzxtn8ROTv",
    "outputId": "33205ed2-5c2b-41f3-ded4-bc5fb7ef1452"
   },
   "outputs": [
    {
     "data": {
      "text/plain": [
       "Date          1284\n",
       "Symbol           1\n",
       "Series           1\n",
       "Prev Close    1253\n",
       "Open          1156\n",
       "High          1196\n",
       "Low           1204\n",
       "Last          1190\n",
       "Close         1253\n",
       "dtype: int64"
      ]
     },
     "execution_count": 12,
     "metadata": {},
     "output_type": "execute_result"
    }
   ],
   "source": [
    "df.nunique()"
   ]
  },
  {
   "cell_type": "code",
   "execution_count": 13,
   "metadata": {
    "colab": {
     "base_uri": "https://localhost:8080/"
    },
    "id": "MwLPQYu4RRme",
    "outputId": "d71f6d0d-74a1-4aa6-9072-0623971d298e"
   },
   "outputs": [
    {
     "data": {
      "text/plain": [
       "Date          0\n",
       "Symbol        0\n",
       "Series        0\n",
       "Prev Close    0\n",
       "Open          0\n",
       "High          0\n",
       "Low           0\n",
       "Last          0\n",
       "Close         0\n",
       "dtype: int64"
      ]
     },
     "execution_count": 13,
     "metadata": {},
     "output_type": "execute_result"
    }
   ],
   "source": [
    "df.isnull().sum()"
   ]
  },
  {
   "cell_type": "code",
   "execution_count": 14,
   "metadata": {
    "colab": {
     "base_uri": "https://localhost:8080/",
     "height": 300
    },
    "id": "nf-HUim4RYXc",
    "outputId": "5c10cf54-197c-4871-cffc-a9dca107ef2b"
   },
   "outputs": [
    {
     "data": {
      "text/html": [
       "<div>\n",
       "<style scoped>\n",
       "    .dataframe tbody tr th:only-of-type {\n",
       "        vertical-align: middle;\n",
       "    }\n",
       "\n",
       "    .dataframe tbody tr th {\n",
       "        vertical-align: top;\n",
       "    }\n",
       "\n",
       "    .dataframe thead th {\n",
       "        text-align: right;\n",
       "    }\n",
       "</style>\n",
       "<table border=\"1\" class=\"dataframe\">\n",
       "  <thead>\n",
       "    <tr style=\"text-align: right;\">\n",
       "      <th></th>\n",
       "      <th>Prev Close</th>\n",
       "      <th>Open</th>\n",
       "      <th>High</th>\n",
       "      <th>Low</th>\n",
       "      <th>Last</th>\n",
       "      <th>Close</th>\n",
       "    </tr>\n",
       "  </thead>\n",
       "  <tbody>\n",
       "    <tr>\n",
       "      <th>count</th>\n",
       "      <td>1284.000000</td>\n",
       "      <td>1284.000000</td>\n",
       "      <td>1284.000000</td>\n",
       "      <td>1284.000000</td>\n",
       "      <td>1284.000000</td>\n",
       "      <td>1284.000000</td>\n",
       "    </tr>\n",
       "    <tr>\n",
       "      <th>mean</th>\n",
       "      <td>1532.792952</td>\n",
       "      <td>1535.259034</td>\n",
       "      <td>1552.770717</td>\n",
       "      <td>1516.280802</td>\n",
       "      <td>1533.822741</td>\n",
       "      <td>1533.691005</td>\n",
       "    </tr>\n",
       "    <tr>\n",
       "      <th>std</th>\n",
       "      <td>502.254113</td>\n",
       "      <td>503.869678</td>\n",
       "      <td>508.636785</td>\n",
       "      <td>497.351378</td>\n",
       "      <td>502.426607</td>\n",
       "      <td>502.479009</td>\n",
       "    </tr>\n",
       "    <tr>\n",
       "      <th>min</th>\n",
       "      <td>780.900000</td>\n",
       "      <td>791.750000</td>\n",
       "      <td>793.400000</td>\n",
       "      <td>779.100000</td>\n",
       "      <td>781.200000</td>\n",
       "      <td>780.900000</td>\n",
       "    </tr>\n",
       "    <tr>\n",
       "      <th>25%</th>\n",
       "      <td>1120.825000</td>\n",
       "      <td>1120.625000</td>\n",
       "      <td>1133.637500</td>\n",
       "      <td>1105.337500</td>\n",
       "      <td>1120.137500</td>\n",
       "      <td>1121.187500</td>\n",
       "    </tr>\n",
       "    <tr>\n",
       "      <th>50%</th>\n",
       "      <td>1372.375000</td>\n",
       "      <td>1375.000000</td>\n",
       "      <td>1393.100000</td>\n",
       "      <td>1363.375000</td>\n",
       "      <td>1373.150000</td>\n",
       "      <td>1373.525000</td>\n",
       "    </tr>\n",
       "    <tr>\n",
       "      <th>75%</th>\n",
       "      <td>1994.237500</td>\n",
       "      <td>1998.037500</td>\n",
       "      <td>2016.837500</td>\n",
       "      <td>1980.037500</td>\n",
       "      <td>1994.087500</td>\n",
       "      <td>1994.537500</td>\n",
       "    </tr>\n",
       "    <tr>\n",
       "      <th>max</th>\n",
       "      <td>2731.850000</td>\n",
       "      <td>2742.750000</td>\n",
       "      <td>2751.350000</td>\n",
       "      <td>2708.000000</td>\n",
       "      <td>2730.800000</td>\n",
       "      <td>2731.850000</td>\n",
       "    </tr>\n",
       "  </tbody>\n",
       "</table>\n",
       "</div>"
      ],
      "text/plain": [
       "        Prev Close         Open         High          Low         Last  \\\n",
       "count  1284.000000  1284.000000  1284.000000  1284.000000  1284.000000   \n",
       "mean   1532.792952  1535.259034  1552.770717  1516.280802  1533.822741   \n",
       "std     502.254113   503.869678   508.636785   497.351378   502.426607   \n",
       "min     780.900000   791.750000   793.400000   779.100000   781.200000   \n",
       "25%    1120.825000  1120.625000  1133.637500  1105.337500  1120.137500   \n",
       "50%    1372.375000  1375.000000  1393.100000  1363.375000  1373.150000   \n",
       "75%    1994.237500  1998.037500  2016.837500  1980.037500  1994.087500   \n",
       "max    2731.850000  2742.750000  2751.350000  2708.000000  2730.800000   \n",
       "\n",
       "             Close  \n",
       "count  1284.000000  \n",
       "mean   1533.691005  \n",
       "std     502.479009  \n",
       "min     780.900000  \n",
       "25%    1121.187500  \n",
       "50%    1373.525000  \n",
       "75%    1994.537500  \n",
       "max    2731.850000  "
      ]
     },
     "execution_count": 14,
     "metadata": {},
     "output_type": "execute_result"
    }
   ],
   "source": [
    "df.describe()"
   ]
  },
  {
   "cell_type": "code",
   "execution_count": 15,
   "metadata": {
    "id": "tXEzyPIIRbcw"
   },
   "outputs": [],
   "source": [
    "df1 = df.copy()"
   ]
  },
  {
   "cell_type": "code",
   "execution_count": 16,
   "metadata": {
    "id": "cdjFF9UnRwDc"
   },
   "outputs": [],
   "source": [
    "import matplotlib.pyplot as plt\n",
    "%matplotlib inline\n",
    "import seaborn as sns"
   ]
  },
  {
   "cell_type": "code",
   "execution_count": 17,
   "metadata": {
    "colab": {
     "base_uri": "https://localhost:8080/",
     "height": 296
    },
    "id": "iFlhLQ0ARiH_",
    "outputId": "d0ca46c8-6b45-4e9b-d1d7-5669ac2923cf"
   },
   "outputs": [
    {
     "data": {
      "text/plain": [
       "<AxesSubplot:xlabel='Open'>"
      ]
     },
     "execution_count": 17,
     "metadata": {},
     "output_type": "execute_result"
    },
    {
     "data": {
      "image/png": "[encoded data removed]",
      "text/plain": [
       "<Figure size 432x288 with 1 Axes>"
      ]
     },
     "metadata": {
      "needs_background": "light"
     },
     "output_type": "display_data"
    }
   ],
   "source": [
    "sns.boxplot(x= 'Open', data=df1)"
   ]
  },
  {
   "cell_type": "code",
   "execution_count": 18,
   "metadata": {
    "colab": {
     "base_uri": "https://localhost:8080/",
     "height": 369
    },
    "id": "cskaDuORRqF0",
    "outputId": "5e618439-23c6-4ca2-b762-5dbf629ddd1a"
   },
   "outputs": [
    {
     "data": {
      "image/png": "[encoded data removed]",
      "text/plain": [
       "<Figure size 360x360 with 1 Axes>"
      ]
     },
     "metadata": {
      "needs_background": "light"
     },
     "output_type": "display_data"
    }
   ],
   "source": [
    "#plt.figure(figsize = (10,8))\n",
    "sns.catplot(x = 'Date' , y = 'Open', data = df1)\n",
    "plt.show()"
   ]
  },
  {
   "cell_type": "code",
   "execution_count": 22,
   "metadata": {
    "colab": {
     "base_uri": "https://localhost:8080/",
     "height": 381
    },
    "id": "1A1K6uKESFbi",
    "outputId": "c120d7d6-3a83-4d53-a3d3-a14854343e0d"
   },
   "outputs": [
    {
     "data": {
      "image/png": "[encoded data removed]",
      "text/plain": [
       "<Figure size 864x360 with 1 Axes>"
      ]
     },
     "metadata": {
      "needs_background": "light"
     },
     "output_type": "display_data"
    }
   ],
   "source": [
    "plt.figure(figsize=(12,5))\n",
    "sns.lineplot(x=df1['Date'],y=df1['Open'],color='blue')\n",
    "plt.xticks(rotation='vertical')\n",
    "plt.xlabel('date')\n",
    "plt.ylabel('Open stock price')\n",
    "plt.title(\"Day wise stock price\",fontsize=16)\n",
    "\n",
    "plt.tight_layout(pad=0.5)\n",
    "plt.show()"
   ]
  },
  {
   "cell_type": "code",
   "execution_count": 23,
   "metadata": {
    "colab": {
     "base_uri": "https://localhost:8080/",
     "height": 354
    },
    "id": "Vk9XKg-wSezj",
    "outputId": "d2db286d-c8ab-4f23-8bc9-7313d6f613cf"
   },
   "outputs": [
    {
     "name": "stderr",
     "output_type": "stream",
     "text": [
      "C:\\Users\\vinis\\Anaconda3\\lib\\site-packages\\seaborn\\distributions.py:2619: FutureWarning: `distplot` is a deprecated function and will be removed in a future version. Please adapt your code to use either `displot` (a figure-level function with similar flexibility) or `histplot` (an axes-level function for histograms).\n",
      "  warnings.warn(msg, FutureWarning)\n"
     ]
    },
    {
     "data": {
      "text/plain": [
       "<AxesSubplot:xlabel='Open', ylabel='Density'>"
      ]
     },
     "execution_count": 23,
     "metadata": {},
     "output_type": "execute_result"
    },
    {
     "data": {
      "image/png": "[encoded data removed]",
      "text/plain": [
       "<Figure size 432x288 with 1 Axes>"
      ]
     },
     "metadata": {
      "needs_background": "light"
     },
     "output_type": "display_data"
    }
   ],
   "source": [
    "sns.distplot(df1['Open'])"
   ]
  },
  {
   "cell_type": "code",
   "execution_count": 24,
   "metadata": {
    "colab": {
     "base_uri": "https://localhost:8080/",
     "height": 296
    },
    "id": "DdY3a8DIS462",
    "outputId": "6b2cdef1-cf02-432a-d9d6-473bd0c90603"
   },
   "outputs": [
    {
     "data": {
      "text/plain": [
       "<AxesSubplot:xlabel='Open', ylabel='Density'>"
      ]
     },
     "execution_count": 24,
     "metadata": {},
     "output_type": "execute_result"
    },
    {
     "data": {
      "image/png": "[encoded data removed]",
      "text/plain": [
       "<Figure size 432x288 with 1 Axes>"
      ]
     },
     "metadata": {
      "needs_background": "light"
     },
     "output_type": "display_data"
    }
   ],
   "source": [
    "sns.kdeplot(df1['Open'],shade=True, color='b')"
   ]
  },
  {
   "cell_type": "markdown",
   "metadata": {
    "id": "4mwBOgtYVvQS"
   },
   "source": [
    "# Log Transformation"
   ]
  },
  {
   "cell_type": "code",
   "execution_count": 25,
   "metadata": {
    "colab": {
     "base_uri": "https://localhost:8080/",
     "height": 296
    },
    "id": "izmVd4TUVwdu",
    "outputId": "8ede072a-9340-4b0d-8641-e5ad642eb210"
   },
   "outputs": [
    {
     "data": {
      "image/png": "[encoded data removed]",
      "text/plain": [
       "<Figure size 432x288 with 1 Axes>"
      ]
     },
     "metadata": {
      "needs_background": "light"
     },
     "output_type": "display_data"
    },
    {
     "data": {
      "text/plain": [
       "<Figure size 432x288 with 0 Axes>"
      ]
     },
     "metadata": {},
     "output_type": "display_data"
    }
   ],
   "source": [
    "import warnings\n",
    "warnings.filterwarnings('ignore')\n",
    "log = np.log(df1['Open'])\n",
    "sns.distplot(log)\n",
    "fig = plt.figure()"
   ]
  },
  {
   "cell_type": "code",
   "execution_count": 26,
   "metadata": {
    "colab": {
     "base_uri": "https://localhost:8080/",
     "height": 296
    },
    "id": "mEXiT8Y_V5O4",
    "outputId": "98e422a4-285d-4d43-b300-ffee8ea9508d"
   },
   "outputs": [
    {
     "data": {
      "image/png": "[encoded data removed]",
      "text/plain": [
       "<Figure size 432x288 with 1 Axes>"
      ]
     },
     "metadata": {
      "needs_background": "light"
     },
     "output_type": "display_data"
    },
    {
     "data": {
      "text/plain": [
       "<Figure size 432x288 with 0 Axes>"
      ]
     },
     "metadata": {},
     "output_type": "display_data"
    }
   ],
   "source": [
    "# Square root transformation\n",
    "\n",
    "sqrt = np.sqrt(df1['Open'])\n",
    "sns.distplot(sqrt)\n",
    "fig = plt.figure()"
   ]
  },
  {
   "cell_type": "code",
   "execution_count": 27,
   "metadata": {
    "colab": {
     "base_uri": "https://localhost:8080/",
     "height": 296
    },
    "id": "WOJAxau3WCp3",
    "outputId": "ebe5e9a0-4052-4417-96c7-61d809915fb2"
   },
   "outputs": [
    {
     "data": {
      "image/png": "[encoded data removed]",
      "text/plain": [
       "<Figure size 432x288 with 1 Axes>"
      ]
     },
     "metadata": {
      "needs_background": "light"
     },
     "output_type": "display_data"
    },
    {
     "data": {
      "text/plain": [
       "<Figure size 432x288 with 0 Axes>"
      ]
     },
     "metadata": {},
     "output_type": "display_data"
    }
   ],
   "source": [
    "# Reciprocal Transformation\n",
    "\n",
    "rec = 1/(df1['Open']+1)\n",
    "sns.distplot(rec)\n",
    "fig = plt.figure()"
   ]
  },
  {
   "cell_type": "code",
   "execution_count": 28,
   "metadata": {
    "colab": {
     "base_uri": "https://localhost:8080/",
     "height": 282
    },
    "id": "FYsvRTz9WKx4",
    "outputId": "2003e176-982a-4c4e-cab4-069960afe574"
   },
   "outputs": [
    {
     "data": {
      "image/png": "[encoded data removed]",
      "text/plain": [
       "<Figure size 432x288 with 1 Axes>"
      ]
     },
     "metadata": {
      "needs_background": "light"
     },
     "output_type": "display_data"
    },
    {
     "data": {
      "text/plain": [
       "<Figure size 432x288 with 0 Axes>"
      ]
     },
     "metadata": {},
     "output_type": "display_data"
    }
   ],
   "source": [
    "# Power Transformation:Box-Cox transformation\n",
    "\n",
    "from scipy import stats\n",
    "pt = stats.boxcox(df1['Open'])[0]\n",
    "sns.distplot(pt)\n",
    "fig = plt.figure()"
   ]
  },
  {
   "cell_type": "code",
   "execution_count": 29,
   "metadata": {
    "id": "DSvrS1QrWVJR"
   },
   "outputs": [],
   "source": [
    "# Even after transformations data is Not normal so we moved ahead Without transformation"
   ]
  },
  {
   "cell_type": "code",
   "execution_count": 30,
   "metadata": {
    "colab": {
     "base_uri": "https://localhost:8080/",
     "height": 242
    },
    "id": "Pjk4WEb2WetP",
    "outputId": "9ac72c56-6bea-4a65-f3bb-3905294a8883"
   },
   "outputs": [
    {
     "data": {
      "text/plain": [
       "<AxesSubplot:xlabel='Date', ylabel='Open'>"
      ]
     },
     "execution_count": 30,
     "metadata": {},
     "output_type": "execute_result"
    },
    {
     "data": {
      "image/png": "[encoded data removed]",
      "text/plain": [
       "<Figure size 864x216 with 1 Axes>"
      ]
     },
     "metadata": {
      "needs_background": "light"
     },
     "output_type": "display_data"
    }
   ],
   "source": [
    "plt.figure(figsize=(12,3))\n",
    "sns.lineplot(x=\"Date\",y=\"Open\",data=df1)"
   ]
  },
  {
   "cell_type": "code",
   "execution_count": null,
   "metadata": {
    "id": "dFQQKq5VWlRL"
   },
   "outputs": [],
   "source": []
  },
  {
   "cell_type": "markdown",
   "metadata": {
    "id": "RaNswJ0zjkly"
   },
   "source": [
    "# Model Building"
   ]
  },
  {
   "cell_type": "code",
   "execution_count": 31,
   "metadata": {
    "id": "Fwino-xB5_2c"
   },
   "outputs": [],
   "source": [
    "import numpy as np\n",
    "import pandas as pd"
   ]
  },
  {
   "cell_type": "code",
   "execution_count": 33,
   "metadata": {
    "id": "7PYr02WOjnKu"
   },
   "outputs": [],
   "source": [
    "df = pd.read_csv('Reliance_5_years.csv')"
   ]
  },
  {
   "cell_type": "code",
   "execution_count": 34,
   "metadata": {
    "colab": {
     "base_uri": "https://localhost:8080/"
    },
    "id": "T3VsI8U8j5BY",
    "outputId": "08c8ab21-f690-49fa-d1a3-5bd0b61ee36d"
   },
   "outputs": [
    {
     "name": "stdout",
     "output_type": "stream",
     "text": [
      "<class 'pandas.core.frame.DataFrame'>\n",
      "RangeIndex: 1284 entries, 0 to 1283\n",
      "Data columns (total 15 columns):\n",
      " #   Column              Non-Null Count  Dtype  \n",
      "---  ------              --------------  -----  \n",
      " 0   Date                1284 non-null   object \n",
      " 1   Symbol              1284 non-null   object \n",
      " 2   Series              1284 non-null   object \n",
      " 3   Prev Close          1284 non-null   float64\n",
      " 4   Open                1284 non-null   float64\n",
      " 5   High                1284 non-null   float64\n",
      " 6   Low                 1284 non-null   float64\n",
      " 7   Last                1284 non-null   float64\n",
      " 8   Close               1284 non-null   float64\n",
      " 9   VWAP                1284 non-null   float64\n",
      " 10  Volume              1284 non-null   int64  \n",
      " 11  Turnover            1284 non-null   float64\n",
      " 12  Trades              1284 non-null   int64  \n",
      " 13  Deliverable Volume  1284 non-null   int64  \n",
      " 14  %Deliverble         1284 non-null   float64\n",
      "dtypes: float64(9), int64(3), object(3)\n",
      "memory usage: 150.6+ KB\n"
     ]
    }
   ],
   "source": [
    "df.info()"
   ]
  },
  {
   "cell_type": "code",
   "execution_count": 35,
   "metadata": {
    "colab": {
     "base_uri": "https://localhost:8080/",
     "height": 206
    },
    "id": "GaD51Arq6Lro",
    "outputId": "6cb53f05-8867-4994-8a72-7ca2b19d835b"
   },
   "outputs": [
    {
     "data": {
      "text/html": [
       "<div>\n",
       "<style scoped>\n",
       "    .dataframe tbody tr th:only-of-type {\n",
       "        vertical-align: middle;\n",
       "    }\n",
       "\n",
       "    .dataframe tbody tr th {\n",
       "        vertical-align: top;\n",
       "    }\n",
       "\n",
       "    .dataframe thead th {\n",
       "        text-align: right;\n",
       "    }\n",
       "</style>\n",
       "<table border=\"1\" class=\"dataframe\">\n",
       "  <thead>\n",
       "    <tr style=\"text-align: right;\">\n",
       "      <th></th>\n",
       "      <th>Date</th>\n",
       "      <th>Symbol</th>\n",
       "      <th>Series</th>\n",
       "      <th>Prev Close</th>\n",
       "      <th>Open</th>\n",
       "      <th>High</th>\n",
       "      <th>Low</th>\n",
       "      <th>Last</th>\n",
       "      <th>Close</th>\n",
       "    </tr>\n",
       "  </thead>\n",
       "  <tbody>\n",
       "    <tr>\n",
       "      <th>0</th>\n",
       "      <td>2017-01-02</td>\n",
       "      <td>RELIANCE</td>\n",
       "      <td>EQ</td>\n",
       "      <td>1082.40</td>\n",
       "      <td>1084.00</td>\n",
       "      <td>1090.0</td>\n",
       "      <td>1072.35</td>\n",
       "      <td>1086.70</td>\n",
       "      <td>1085.10</td>\n",
       "    </tr>\n",
       "    <tr>\n",
       "      <th>1</th>\n",
       "      <td>2017-01-03</td>\n",
       "      <td>RELIANCE</td>\n",
       "      <td>EQ</td>\n",
       "      <td>1085.10</td>\n",
       "      <td>1089.85</td>\n",
       "      <td>1097.0</td>\n",
       "      <td>1081.10</td>\n",
       "      <td>1089.00</td>\n",
       "      <td>1089.40</td>\n",
       "    </tr>\n",
       "    <tr>\n",
       "      <th>2</th>\n",
       "      <td>2017-01-04</td>\n",
       "      <td>RELIANCE</td>\n",
       "      <td>EQ</td>\n",
       "      <td>1089.40</td>\n",
       "      <td>1092.90</td>\n",
       "      <td>1093.0</td>\n",
       "      <td>1064.30</td>\n",
       "      <td>1067.15</td>\n",
       "      <td>1067.15</td>\n",
       "    </tr>\n",
       "    <tr>\n",
       "      <th>3</th>\n",
       "      <td>2017-01-05</td>\n",
       "      <td>RELIANCE</td>\n",
       "      <td>EQ</td>\n",
       "      <td>1067.15</td>\n",
       "      <td>1071.00</td>\n",
       "      <td>1079.9</td>\n",
       "      <td>1068.75</td>\n",
       "      <td>1077.00</td>\n",
       "      <td>1077.40</td>\n",
       "    </tr>\n",
       "    <tr>\n",
       "      <th>4</th>\n",
       "      <td>2017-01-06</td>\n",
       "      <td>RELIANCE</td>\n",
       "      <td>EQ</td>\n",
       "      <td>1077.40</td>\n",
       "      <td>1074.20</td>\n",
       "      <td>1085.0</td>\n",
       "      <td>1073.10</td>\n",
       "      <td>1073.95</td>\n",
       "      <td>1074.95</td>\n",
       "    </tr>\n",
       "  </tbody>\n",
       "</table>\n",
       "</div>"
      ],
      "text/plain": [
       "         Date    Symbol Series  Prev Close     Open    High      Low     Last  \\\n",
       "0  2017-01-02  RELIANCE     EQ     1082.40  1084.00  1090.0  1072.35  1086.70   \n",
       "1  2017-01-03  RELIANCE     EQ     1085.10  1089.85  1097.0  1081.10  1089.00   \n",
       "2  2017-01-04  RELIANCE     EQ     1089.40  1092.90  1093.0  1064.30  1067.15   \n",
       "3  2017-01-05  RELIANCE     EQ     1067.15  1071.00  1079.9  1068.75  1077.00   \n",
       "4  2017-01-06  RELIANCE     EQ     1077.40  1074.20  1085.0  1073.10  1073.95   \n",
       "\n",
       "     Close  \n",
       "0  1085.10  \n",
       "1  1089.40  \n",
       "2  1067.15  \n",
       "3  1077.40  \n",
       "4  1074.95  "
      ]
     },
     "execution_count": 35,
     "metadata": {},
     "output_type": "execute_result"
    }
   ],
   "source": [
    "df= df.iloc[:,:9]\n",
    "df.head()"
   ]
  },
  {
   "cell_type": "code",
   "execution_count": 36,
   "metadata": {
    "id": "ZDtI5CoXj602"
   },
   "outputs": [],
   "source": [
    "# Converting to datetime datatype\n",
    "df['Date'] = pd.to_datetime(df['Date'])"
   ]
  },
  {
   "cell_type": "code",
   "execution_count": 37,
   "metadata": {
    "colab": {
     "base_uri": "https://localhost:8080/"
    },
    "id": "3xAqy73ukIsi",
    "outputId": "4f0238ed-c7f7-484f-dd6a-c8d2b125893d"
   },
   "outputs": [
    {
     "name": "stdout",
     "output_type": "stream",
     "text": [
      "<class 'pandas.core.frame.DataFrame'>\n",
      "RangeIndex: 1284 entries, 0 to 1283\n",
      "Data columns (total 9 columns):\n",
      " #   Column      Non-Null Count  Dtype         \n",
      "---  ------      --------------  -----         \n",
      " 0   Date        1284 non-null   datetime64[ns]\n",
      " 1   Symbol      1284 non-null   object        \n",
      " 2   Series      1284 non-null   object        \n",
      " 3   Prev Close  1284 non-null   float64       \n",
      " 4   Open        1284 non-null   float64       \n",
      " 5   High        1284 non-null   float64       \n",
      " 6   Low         1284 non-null   float64       \n",
      " 7   Last        1284 non-null   float64       \n",
      " 8   Close       1284 non-null   float64       \n",
      "dtypes: datetime64[ns](1), float64(6), object(2)\n",
      "memory usage: 90.4+ KB\n"
     ]
    }
   ],
   "source": [
    "df.info()"
   ]
  },
  {
   "cell_type": "code",
   "execution_count": 38,
   "metadata": {
    "id": "v2mb8YJmkK6y"
   },
   "outputs": [],
   "source": [
    "import matplotlib.pyplot as plt\n",
    "import statsmodels.api as sms"
   ]
  },
  {
   "cell_type": "code",
   "execution_count": 39,
   "metadata": {
    "id": "usiCyVIxkToZ"
   },
   "outputs": [],
   "source": [
    "from statsmodels.tsa.stattools import adfuller"
   ]
  },
  {
   "cell_type": "code",
   "execution_count": 40,
   "metadata": {
    "id": "yBRRXszVk35s"
   },
   "outputs": [],
   "source": [
    "df1=df"
   ]
  },
  {
   "cell_type": "code",
   "execution_count": 41,
   "metadata": {
    "colab": {
     "base_uri": "https://localhost:8080/",
     "height": 206
    },
    "id": "H4MgxyGPmSY4",
    "outputId": "2541ae8f-6c4b-49fa-fbdb-2dbf23edca15"
   },
   "outputs": [
    {
     "data": {
      "text/html": [
       "<div>\n",
       "<style scoped>\n",
       "    .dataframe tbody tr th:only-of-type {\n",
       "        vertical-align: middle;\n",
       "    }\n",
       "\n",
       "    .dataframe tbody tr th {\n",
       "        vertical-align: top;\n",
       "    }\n",
       "\n",
       "    .dataframe thead th {\n",
       "        text-align: right;\n",
       "    }\n",
       "</style>\n",
       "<table border=\"1\" class=\"dataframe\">\n",
       "  <thead>\n",
       "    <tr style=\"text-align: right;\">\n",
       "      <th></th>\n",
       "      <th>Date</th>\n",
       "      <th>Symbol</th>\n",
       "      <th>Series</th>\n",
       "      <th>Prev Close</th>\n",
       "      <th>Open</th>\n",
       "      <th>High</th>\n",
       "      <th>Low</th>\n",
       "      <th>Last</th>\n",
       "      <th>Close</th>\n",
       "    </tr>\n",
       "  </thead>\n",
       "  <tbody>\n",
       "    <tr>\n",
       "      <th>0</th>\n",
       "      <td>2017-01-02</td>\n",
       "      <td>RELIANCE</td>\n",
       "      <td>EQ</td>\n",
       "      <td>1082.40</td>\n",
       "      <td>1084.00</td>\n",
       "      <td>1090.0</td>\n",
       "      <td>1072.35</td>\n",
       "      <td>1086.70</td>\n",
       "      <td>1085.10</td>\n",
       "    </tr>\n",
       "    <tr>\n",
       "      <th>1</th>\n",
       "      <td>2017-01-03</td>\n",
       "      <td>RELIANCE</td>\n",
       "      <td>EQ</td>\n",
       "      <td>1085.10</td>\n",
       "      <td>1089.85</td>\n",
       "      <td>1097.0</td>\n",
       "      <td>1081.10</td>\n",
       "      <td>1089.00</td>\n",
       "      <td>1089.40</td>\n",
       "    </tr>\n",
       "    <tr>\n",
       "      <th>2</th>\n",
       "      <td>2017-01-04</td>\n",
       "      <td>RELIANCE</td>\n",
       "      <td>EQ</td>\n",
       "      <td>1089.40</td>\n",
       "      <td>1092.90</td>\n",
       "      <td>1093.0</td>\n",
       "      <td>1064.30</td>\n",
       "      <td>1067.15</td>\n",
       "      <td>1067.15</td>\n",
       "    </tr>\n",
       "    <tr>\n",
       "      <th>3</th>\n",
       "      <td>2017-01-05</td>\n",
       "      <td>RELIANCE</td>\n",
       "      <td>EQ</td>\n",
       "      <td>1067.15</td>\n",
       "      <td>1071.00</td>\n",
       "      <td>1079.9</td>\n",
       "      <td>1068.75</td>\n",
       "      <td>1077.00</td>\n",
       "      <td>1077.40</td>\n",
       "    </tr>\n",
       "    <tr>\n",
       "      <th>4</th>\n",
       "      <td>2017-01-06</td>\n",
       "      <td>RELIANCE</td>\n",
       "      <td>EQ</td>\n",
       "      <td>1077.40</td>\n",
       "      <td>1074.20</td>\n",
       "      <td>1085.0</td>\n",
       "      <td>1073.10</td>\n",
       "      <td>1073.95</td>\n",
       "      <td>1074.95</td>\n",
       "    </tr>\n",
       "  </tbody>\n",
       "</table>\n",
       "</div>"
      ],
      "text/plain": [
       "        Date    Symbol Series  Prev Close     Open    High      Low     Last  \\\n",
       "0 2017-01-02  RELIANCE     EQ     1082.40  1084.00  1090.0  1072.35  1086.70   \n",
       "1 2017-01-03  RELIANCE     EQ     1085.10  1089.85  1097.0  1081.10  1089.00   \n",
       "2 2017-01-04  RELIANCE     EQ     1089.40  1092.90  1093.0  1064.30  1067.15   \n",
       "3 2017-01-05  RELIANCE     EQ     1067.15  1071.00  1079.9  1068.75  1077.00   \n",
       "4 2017-01-06  RELIANCE     EQ     1077.40  1074.20  1085.0  1073.10  1073.95   \n",
       "\n",
       "     Close  \n",
       "0  1085.10  \n",
       "1  1089.40  \n",
       "2  1067.15  \n",
       "3  1077.40  \n",
       "4  1074.95  "
      ]
     },
     "execution_count": 41,
     "metadata": {},
     "output_type": "execute_result"
    }
   ],
   "source": [
    "df1.head()"
   ]
  },
  {
   "cell_type": "code",
   "execution_count": 42,
   "metadata": {
    "id": "9DdBj91QkZ7a"
   },
   "outputs": [],
   "source": [
    "def adf_test(series):\n",
    "    result=adfuller(series)\n",
    "    print('ADF Statistics: {}'.format(result[0]))\n",
    "    print('p- value: {}'.format(result[1]))\n",
    "    if result[1] <= 0.05:\n",
    "        print(\"strong evidence against the null hypothesis, reject the null hypothesis. Data has no unit root and is stationary\")\n",
    "    else:\n",
    "        print(\"weak evidence against null hypothesis, time series has a unit root, indicating it is non-stationary \")"
   ]
  },
  {
   "cell_type": "code",
   "execution_count": 43,
   "metadata": {
    "colab": {
     "base_uri": "https://localhost:8080/"
    },
    "id": "wfBlvWuikhxS",
    "outputId": "80bf1d3f-e693-42f2-be45-0e6f03c2660c"
   },
   "outputs": [
    {
     "name": "stdout",
     "output_type": "stream",
     "text": [
      "ADF Statistics: -1.1555425651708977\n",
      "p- value: 0.6924220583525117\n",
      "weak evidence against null hypothesis, time series has a unit root, indicating it is non-stationary \n"
     ]
    }
   ],
   "source": [
    "adf_test(df1['Open'])"
   ]
  },
  {
   "cell_type": "code",
   "execution_count": 44,
   "metadata": {
    "id": "-cVuKdZ_knWw"
   },
   "outputs": [],
   "source": [
    "## Use Techniques Differencing\n",
    "df1['First_Difference_Open']=df1['Open']-df1['Open'].shift(1)"
   ]
  },
  {
   "cell_type": "code",
   "execution_count": 45,
   "metadata": {
    "colab": {
     "base_uri": "https://localhost:8080/",
     "height": 206
    },
    "id": "EuYlZQQplGcR",
    "outputId": "fea0ebf8-8095-4511-811a-972a2497e349"
   },
   "outputs": [
    {
     "data": {
      "text/html": [
       "<div>\n",
       "<style scoped>\n",
       "    .dataframe tbody tr th:only-of-type {\n",
       "        vertical-align: middle;\n",
       "    }\n",
       "\n",
       "    .dataframe tbody tr th {\n",
       "        vertical-align: top;\n",
       "    }\n",
       "\n",
       "    .dataframe thead th {\n",
       "        text-align: right;\n",
       "    }\n",
       "</style>\n",
       "<table border=\"1\" class=\"dataframe\">\n",
       "  <thead>\n",
       "    <tr style=\"text-align: right;\">\n",
       "      <th></th>\n",
       "      <th>Date</th>\n",
       "      <th>Symbol</th>\n",
       "      <th>Series</th>\n",
       "      <th>Prev Close</th>\n",
       "      <th>Open</th>\n",
       "      <th>High</th>\n",
       "      <th>Low</th>\n",
       "      <th>Last</th>\n",
       "      <th>Close</th>\n",
       "      <th>First_Difference_Open</th>\n",
       "    </tr>\n",
       "  </thead>\n",
       "  <tbody>\n",
       "    <tr>\n",
       "      <th>0</th>\n",
       "      <td>2017-01-02</td>\n",
       "      <td>RELIANCE</td>\n",
       "      <td>EQ</td>\n",
       "      <td>1082.40</td>\n",
       "      <td>1084.00</td>\n",
       "      <td>1090.0</td>\n",
       "      <td>1072.35</td>\n",
       "      <td>1086.70</td>\n",
       "      <td>1085.10</td>\n",
       "      <td>NaN</td>\n",
       "    </tr>\n",
       "    <tr>\n",
       "      <th>1</th>\n",
       "      <td>2017-01-03</td>\n",
       "      <td>RELIANCE</td>\n",
       "      <td>EQ</td>\n",
       "      <td>1085.10</td>\n",
       "      <td>1089.85</td>\n",
       "      <td>1097.0</td>\n",
       "      <td>1081.10</td>\n",
       "      <td>1089.00</td>\n",
       "      <td>1089.40</td>\n",
       "      <td>5.85</td>\n",
       "    </tr>\n",
       "    <tr>\n",
       "      <th>2</th>\n",
       "      <td>2017-01-04</td>\n",
       "      <td>RELIANCE</td>\n",
       "      <td>EQ</td>\n",
       "      <td>1089.40</td>\n",
       "      <td>1092.90</td>\n",
       "      <td>1093.0</td>\n",
       "      <td>1064.30</td>\n",
       "      <td>1067.15</td>\n",
       "      <td>1067.15</td>\n",
       "      <td>3.05</td>\n",
       "    </tr>\n",
       "    <tr>\n",
       "      <th>3</th>\n",
       "      <td>2017-01-05</td>\n",
       "      <td>RELIANCE</td>\n",
       "      <td>EQ</td>\n",
       "      <td>1067.15</td>\n",
       "      <td>1071.00</td>\n",
       "      <td>1079.9</td>\n",
       "      <td>1068.75</td>\n",
       "      <td>1077.00</td>\n",
       "      <td>1077.40</td>\n",
       "      <td>-21.90</td>\n",
       "    </tr>\n",
       "    <tr>\n",
       "      <th>4</th>\n",
       "      <td>2017-01-06</td>\n",
       "      <td>RELIANCE</td>\n",
       "      <td>EQ</td>\n",
       "      <td>1077.40</td>\n",
       "      <td>1074.20</td>\n",
       "      <td>1085.0</td>\n",
       "      <td>1073.10</td>\n",
       "      <td>1073.95</td>\n",
       "      <td>1074.95</td>\n",
       "      <td>3.20</td>\n",
       "    </tr>\n",
       "  </tbody>\n",
       "</table>\n",
       "</div>"
      ],
      "text/plain": [
       "        Date    Symbol Series  Prev Close     Open    High      Low     Last  \\\n",
       "0 2017-01-02  RELIANCE     EQ     1082.40  1084.00  1090.0  1072.35  1086.70   \n",
       "1 2017-01-03  RELIANCE     EQ     1085.10  1089.85  1097.0  1081.10  1089.00   \n",
       "2 2017-01-04  RELIANCE     EQ     1089.40  1092.90  1093.0  1064.30  1067.15   \n",
       "3 2017-01-05  RELIANCE     EQ     1067.15  1071.00  1079.9  1068.75  1077.00   \n",
       "4 2017-01-06  RELIANCE     EQ     1077.40  1074.20  1085.0  1073.10  1073.95   \n",
       "\n",
       "     Close  First_Difference_Open  \n",
       "0  1085.10                    NaN  \n",
       "1  1089.40                   5.85  \n",
       "2  1067.15                   3.05  \n",
       "3  1077.40                 -21.90  \n",
       "4  1074.95                   3.20  "
      ]
     },
     "execution_count": 45,
     "metadata": {},
     "output_type": "execute_result"
    }
   ],
   "source": [
    "df1.head()"
   ]
  },
  {
   "cell_type": "code",
   "execution_count": 46,
   "metadata": {
    "colab": {
     "base_uri": "https://localhost:8080/"
    },
    "id": "SzKXh31MlIqQ",
    "outputId": "46491bfb-b97a-4728-c2c5-f14fca32c02f"
   },
   "outputs": [
    {
     "name": "stdout",
     "output_type": "stream",
     "text": [
      "ADF Statistics: -34.81284346364126\n",
      "p- value: 0.0\n",
      "strong evidence against the null hypothesis, reject the null hypothesis. Data has no unit root and is stationary\n"
     ]
    }
   ],
   "source": [
    "adf_test(df1['First_Difference_Open'].dropna())"
   ]
  },
  {
   "cell_type": "code",
   "execution_count": 47,
   "metadata": {
    "colab": {
     "base_uri": "https://localhost:8080/",
     "height": 282
    },
    "id": "dCAf5dAxF1KQ",
    "outputId": "0b9fe647-47d2-4176-e489-bb4eea04cf01"
   },
   "outputs": [
    {
     "data": {
      "text/plain": [
       "<AxesSubplot:>"
      ]
     },
     "execution_count": 47,
     "metadata": {},
     "output_type": "execute_result"
    },
    {
     "data": {
      "image/png": "[encoded data removed]",
      "text/plain": [
       "<Figure size 432x288 with 1 Axes>"
      ]
     },
     "metadata": {
      "needs_background": "light"
     },
     "output_type": "display_data"
    }
   ],
   "source": [
    "df1['First_Difference_Open'].plot()"
   ]
  },
  {
   "cell_type": "code",
   "execution_count": 48,
   "metadata": {
    "id": "56PejG55m8uU"
   },
   "outputs": [],
   "source": [
    "### 12 days \n",
    "## Use Techniques Differencing\n",
    "df1['12_Difference_open']=df1['Open']-df1['Open'].shift(12)"
   ]
  },
  {
   "cell_type": "code",
   "execution_count": 49,
   "metadata": {
    "colab": {
     "base_uri": "https://localhost:8080/"
    },
    "id": "LqbKnZtHnlKy",
    "outputId": "92a8d915-adae-4919-cb7d-f4d49705cb3f"
   },
   "outputs": [
    {
     "name": "stdout",
     "output_type": "stream",
     "text": [
      "ADF Statistics: -7.135802668562638\n",
      "p- value: 3.4237202539325976e-10\n",
      "strong evidence against the null hypothesis, reject the null hypothesis. Data has no unit root and is stationary\n"
     ]
    }
   ],
   "source": [
    "adf_test(df1['12_Difference_open'].dropna())"
   ]
  },
  {
   "cell_type": "code",
   "execution_count": 50,
   "metadata": {
    "colab": {
     "base_uri": "https://localhost:8080/",
     "height": 282
    },
    "id": "zAUPNmqVF8cy",
    "outputId": "8ce29957-94d0-48c7-c6c2-cc37825d464f"
   },
   "outputs": [
    {
     "data": {
      "text/plain": [
       "<AxesSubplot:>"
      ]
     },
     "execution_count": 50,
     "metadata": {},
     "output_type": "execute_result"
    },
    {
     "data": {
      "image/png": "[encoded data removed]",
      "text/plain": [
       "<Figure size 432x288 with 1 Axes>"
      ]
     },
     "metadata": {
      "needs_background": "light"
     },
     "output_type": "display_data"
    }
   ],
   "source": [
    "df1['12_Difference_open'].plot()"
   ]
  },
  {
   "cell_type": "code",
   "execution_count": 51,
   "metadata": {
    "id": "jFaCS9BUnumv"
   },
   "outputs": [],
   "source": [
    "from statsmodels.graphics.tsaplots import plot_acf,plot_pacf"
   ]
  },
  {
   "cell_type": "code",
   "execution_count": 52,
   "metadata": {
    "colab": {
     "base_uri": "https://localhost:8080/",
     "height": 600
    },
    "id": "7NtwJ27nnzeC",
    "outputId": "c2934b6b-d5e9-43fb-8e6b-a0b0dd486273"
   },
   "outputs": [
    {
     "data": {
      "image/png": "[encoded data removed]",
      "text/plain": [
       "<Figure size 432x288 with 1 Axes>"
      ]
     },
     "metadata": {
      "needs_background": "light"
     },
     "output_type": "display_data"
    },
    {
     "data": {
      "image/png": "[encoded data removed]",
      "text/plain": [
       "<Figure size 432x288 with 1 Axes>"
      ]
     },
     "metadata": {
      "needs_background": "light"
     },
     "output_type": "display_data"
    }
   ],
   "source": [
    "acf = plot_acf(df1[\"First_Difference_Open\"].dropna())\n",
    "pacf = plot_pacf(df1[\"First_Difference_Open\"].dropna())"
   ]
  },
  {
   "cell_type": "code",
   "execution_count": 53,
   "metadata": {
    "colab": {
     "base_uri": "https://localhost:8080/",
     "height": 600
    },
    "id": "2KjQ24FUn9kp",
    "outputId": "39a56b74-6fa4-4330-c726-8ccf86b3bde7"
   },
   "outputs": [
    {
     "data": {
      "image/png": "[encoded data removed]",
      "text/plain": [
       "<Figure size 432x288 with 1 Axes>"
      ]
     },
     "metadata": {
      "needs_background": "light"
     },
     "output_type": "display_data"
    },
    {
     "data": {
      "image/png": "[encoded data removed]",
      "text/plain": [
       "<Figure size 432x288 with 1 Axes>"
      ]
     },
     "metadata": {
      "needs_background": "light"
     },
     "output_type": "display_data"
    }
   ],
   "source": [
    "acf12 = plot_acf(df1[\"12_Difference_open\"].dropna())\n",
    "pacf12 = plot_pacf(df1[\"12_Difference_open\"].dropna())"
   ]
  },
  {
   "cell_type": "code",
   "execution_count": 54,
   "metadata": {
    "id": "YOlwnw8LyAOu"
   },
   "outputs": [],
   "source": [
    "import numpy as np\n",
    "import matplotlib.pyplot as plt\n",
    "%matplotlib inline\n",
    "import seaborn as sns"
   ]
  },
  {
   "cell_type": "code",
   "execution_count": 55,
   "metadata": {
    "colab": {
     "base_uri": "https://localhost:8080/",
     "height": 354
    },
    "id": "MtAhBgYg-FVf",
    "outputId": "e72e8dcb-d1ef-481d-9aba-3e6e1199501a"
   },
   "outputs": [
    {
     "data": {
      "text/html": [
       "<div>\n",
       "<style scoped>\n",
       "    .dataframe tbody tr th:only-of-type {\n",
       "        vertical-align: middle;\n",
       "    }\n",
       "\n",
       "    .dataframe tbody tr th {\n",
       "        vertical-align: top;\n",
       "    }\n",
       "\n",
       "    .dataframe thead th {\n",
       "        text-align: right;\n",
       "    }\n",
       "</style>\n",
       "<table border=\"1\" class=\"dataframe\">\n",
       "  <thead>\n",
       "    <tr style=\"text-align: right;\">\n",
       "      <th></th>\n",
       "      <th>Date</th>\n",
       "      <th>Symbol</th>\n",
       "      <th>Series</th>\n",
       "      <th>Prev Close</th>\n",
       "      <th>Open</th>\n",
       "      <th>High</th>\n",
       "      <th>Low</th>\n",
       "      <th>Last</th>\n",
       "      <th>Close</th>\n",
       "      <th>First_Difference_Open</th>\n",
       "      <th>12_Difference_open</th>\n",
       "    </tr>\n",
       "  </thead>\n",
       "  <tbody>\n",
       "    <tr>\n",
       "      <th>0</th>\n",
       "      <td>2017-01-02</td>\n",
       "      <td>RELIANCE</td>\n",
       "      <td>EQ</td>\n",
       "      <td>1082.40</td>\n",
       "      <td>1084.00</td>\n",
       "      <td>1090.0</td>\n",
       "      <td>1072.35</td>\n",
       "      <td>1086.70</td>\n",
       "      <td>1085.10</td>\n",
       "      <td>NaN</td>\n",
       "      <td>NaN</td>\n",
       "    </tr>\n",
       "    <tr>\n",
       "      <th>1</th>\n",
       "      <td>2017-01-03</td>\n",
       "      <td>RELIANCE</td>\n",
       "      <td>EQ</td>\n",
       "      <td>1085.10</td>\n",
       "      <td>1089.85</td>\n",
       "      <td>1097.0</td>\n",
       "      <td>1081.10</td>\n",
       "      <td>1089.00</td>\n",
       "      <td>1089.40</td>\n",
       "      <td>5.85</td>\n",
       "      <td>NaN</td>\n",
       "    </tr>\n",
       "    <tr>\n",
       "      <th>2</th>\n",
       "      <td>2017-01-04</td>\n",
       "      <td>RELIANCE</td>\n",
       "      <td>EQ</td>\n",
       "      <td>1089.40</td>\n",
       "      <td>1092.90</td>\n",
       "      <td>1093.0</td>\n",
       "      <td>1064.30</td>\n",
       "      <td>1067.15</td>\n",
       "      <td>1067.15</td>\n",
       "      <td>3.05</td>\n",
       "      <td>NaN</td>\n",
       "    </tr>\n",
       "    <tr>\n",
       "      <th>3</th>\n",
       "      <td>2017-01-05</td>\n",
       "      <td>RELIANCE</td>\n",
       "      <td>EQ</td>\n",
       "      <td>1067.15</td>\n",
       "      <td>1071.00</td>\n",
       "      <td>1079.9</td>\n",
       "      <td>1068.75</td>\n",
       "      <td>1077.00</td>\n",
       "      <td>1077.40</td>\n",
       "      <td>-21.90</td>\n",
       "      <td>NaN</td>\n",
       "    </tr>\n",
       "    <tr>\n",
       "      <th>4</th>\n",
       "      <td>2017-01-06</td>\n",
       "      <td>RELIANCE</td>\n",
       "      <td>EQ</td>\n",
       "      <td>1077.40</td>\n",
       "      <td>1074.20</td>\n",
       "      <td>1085.0</td>\n",
       "      <td>1073.10</td>\n",
       "      <td>1073.95</td>\n",
       "      <td>1074.95</td>\n",
       "      <td>3.20</td>\n",
       "      <td>NaN</td>\n",
       "    </tr>\n",
       "  </tbody>\n",
       "</table>\n",
       "</div>"
      ],
      "text/plain": [
       "        Date    Symbol Series  Prev Close     Open    High      Low     Last  \\\n",
       "0 2017-01-02  RELIANCE     EQ     1082.40  1084.00  1090.0  1072.35  1086.70   \n",
       "1 2017-01-03  RELIANCE     EQ     1085.10  1089.85  1097.0  1081.10  1089.00   \n",
       "2 2017-01-04  RELIANCE     EQ     1089.40  1092.90  1093.0  1064.30  1067.15   \n",
       "3 2017-01-05  RELIANCE     EQ     1067.15  1071.00  1079.9  1068.75  1077.00   \n",
       "4 2017-01-06  RELIANCE     EQ     1077.40  1074.20  1085.0  1073.10  1073.95   \n",
       "\n",
       "     Close  First_Difference_Open  12_Difference_open  \n",
       "0  1085.10                    NaN                 NaN  \n",
       "1  1089.40                   5.85                 NaN  \n",
       "2  1067.15                   3.05                 NaN  \n",
       "3  1077.40                 -21.90                 NaN  \n",
       "4  1074.95                   3.20                 NaN  "
      ]
     },
     "execution_count": 55,
     "metadata": {},
     "output_type": "execute_result"
    }
   ],
   "source": [
    "df1.head()"
   ]
  },
  {
   "cell_type": "code",
   "execution_count": 56,
   "metadata": {
    "id": "hdQxtiIjxrxl"
   },
   "outputs": [],
   "source": [
    "df1.drop(columns=['Symbol','Series','Prev Close','High','Low','Last','Close'],axis=1,inplace=True)"
   ]
  },
  {
   "cell_type": "code",
   "execution_count": 57,
   "metadata": {
    "colab": {
     "base_uri": "https://localhost:8080/",
     "height": 424
    },
    "id": "vQWiz_y5yYzh",
    "outputId": "259ff53e-3d1d-4d65-bbe3-901f78952d57"
   },
   "outputs": [
    {
     "data": {
      "text/html": [
       "<div>\n",
       "<style scoped>\n",
       "    .dataframe tbody tr th:only-of-type {\n",
       "        vertical-align: middle;\n",
       "    }\n",
       "\n",
       "    .dataframe tbody tr th {\n",
       "        vertical-align: top;\n",
       "    }\n",
       "\n",
       "    .dataframe thead th {\n",
       "        text-align: right;\n",
       "    }\n",
       "</style>\n",
       "<table border=\"1\" class=\"dataframe\">\n",
       "  <thead>\n",
       "    <tr style=\"text-align: right;\">\n",
       "      <th></th>\n",
       "      <th>Date</th>\n",
       "      <th>Open</th>\n",
       "      <th>First_Difference_Open</th>\n",
       "      <th>12_Difference_open</th>\n",
       "    </tr>\n",
       "  </thead>\n",
       "  <tbody>\n",
       "    <tr>\n",
       "      <th>0</th>\n",
       "      <td>2017-01-02</td>\n",
       "      <td>1084.00</td>\n",
       "      <td>NaN</td>\n",
       "      <td>NaN</td>\n",
       "    </tr>\n",
       "    <tr>\n",
       "      <th>1</th>\n",
       "      <td>2017-01-03</td>\n",
       "      <td>1089.85</td>\n",
       "      <td>5.85</td>\n",
       "      <td>NaN</td>\n",
       "    </tr>\n",
       "    <tr>\n",
       "      <th>2</th>\n",
       "      <td>2017-01-04</td>\n",
       "      <td>1092.90</td>\n",
       "      <td>3.05</td>\n",
       "      <td>NaN</td>\n",
       "    </tr>\n",
       "    <tr>\n",
       "      <th>3</th>\n",
       "      <td>2017-01-05</td>\n",
       "      <td>1071.00</td>\n",
       "      <td>-21.90</td>\n",
       "      <td>NaN</td>\n",
       "    </tr>\n",
       "    <tr>\n",
       "      <th>4</th>\n",
       "      <td>2017-01-06</td>\n",
       "      <td>1074.20</td>\n",
       "      <td>3.20</td>\n",
       "      <td>NaN</td>\n",
       "    </tr>\n",
       "    <tr>\n",
       "      <th>...</th>\n",
       "      <td>...</td>\n",
       "      <td>...</td>\n",
       "      <td>...</td>\n",
       "      <td>...</td>\n",
       "    </tr>\n",
       "    <tr>\n",
       "      <th>1279</th>\n",
       "      <td>2022-03-02</td>\n",
       "      <td>2334.45</td>\n",
       "      <td>91.45</td>\n",
       "      <td>-38.80</td>\n",
       "    </tr>\n",
       "    <tr>\n",
       "      <th>1280</th>\n",
       "      <td>2022-03-03</td>\n",
       "      <td>2400.00</td>\n",
       "      <td>65.55</td>\n",
       "      <td>59.75</td>\n",
       "    </tr>\n",
       "    <tr>\n",
       "      <th>1281</th>\n",
       "      <td>2022-03-04</td>\n",
       "      <td>2353.00</td>\n",
       "      <td>-47.00</td>\n",
       "      <td>1.80</td>\n",
       "    </tr>\n",
       "    <tr>\n",
       "      <th>1282</th>\n",
       "      <td>2022-03-07</td>\n",
       "      <td>2278.70</td>\n",
       "      <td>-74.30</td>\n",
       "      <td>-151.30</td>\n",
       "    </tr>\n",
       "    <tr>\n",
       "      <th>1283</th>\n",
       "      <td>2022-03-08</td>\n",
       "      <td>2211.50</td>\n",
       "      <td>-67.20</td>\n",
       "      <td>-208.60</td>\n",
       "    </tr>\n",
       "  </tbody>\n",
       "</table>\n",
       "<p>1284 rows × 4 columns</p>\n",
       "</div>"
      ],
      "text/plain": [
       "           Date     Open  First_Difference_Open  12_Difference_open\n",
       "0    2017-01-02  1084.00                    NaN                 NaN\n",
       "1    2017-01-03  1089.85                   5.85                 NaN\n",
       "2    2017-01-04  1092.90                   3.05                 NaN\n",
       "3    2017-01-05  1071.00                 -21.90                 NaN\n",
       "4    2017-01-06  1074.20                   3.20                 NaN\n",
       "...         ...      ...                    ...                 ...\n",
       "1279 2022-03-02  2334.45                  91.45              -38.80\n",
       "1280 2022-03-03  2400.00                  65.55               59.75\n",
       "1281 2022-03-04  2353.00                 -47.00                1.80\n",
       "1282 2022-03-07  2278.70                 -74.30             -151.30\n",
       "1283 2022-03-08  2211.50                 -67.20             -208.60\n",
       "\n",
       "[1284 rows x 4 columns]"
      ]
     },
     "execution_count": 57,
     "metadata": {},
     "output_type": "execute_result"
    }
   ],
   "source": [
    "df1"
   ]
  },
  {
   "cell_type": "code",
   "execution_count": 58,
   "metadata": {
    "colab": {
     "base_uri": "https://localhost:8080/",
     "height": 282
    },
    "id": "eAvmZtLwszjm",
    "outputId": "bfb16b0e-abff-4241-fbaa-ec2a589f4228"
   },
   "outputs": [
    {
     "data": {
      "text/plain": [
       "[<matplotlib.lines.Line2D at 0x1d21a5e9be0>]"
      ]
     },
     "execution_count": 58,
     "metadata": {},
     "output_type": "execute_result"
    },
    {
     "data": {
      "image/png": "[encoded data removed]",
      "text/plain": [
       "<Figure size 432x288 with 1 Axes>"
      ]
     },
     "metadata": {
      "needs_background": "light"
     },
     "output_type": "display_data"
    }
   ],
   "source": [
    "train_data=df1[:1000]\n",
    "test_data=df1[1000:]\n",
    "plt.plot(train_data.Open)\n",
    "plt.plot(test_data.Open)\n",
    "#train_data=df1[:datetime(2021,6,28)]\n",
    "#test_data=df1[train_dataset_end+timedelta(days=1):test_dataset_end]"
   ]
  },
  {
   "cell_type": "markdown",
   "metadata": {
    "id": "HCjJqhFB0285"
   },
   "source": [
    "# AUTO-ARIMA"
   ]
  },
  {
   "cell_type": "code",
   "execution_count": 63,
   "metadata": {
    "id": "kftq0p6m0zCl"
   },
   "outputs": [
    {
     "name": "stdout",
     "output_type": "stream",
     "text": [
      "Collecting pmdarima\n",
      "  Using cached pmdarima-2.0.1-cp39-cp39-win_amd64.whl (571 kB)\n",
      "Requirement already satisfied: setuptools!=50.0.0,>=38.6.0 in c:\\users\\vinis\\anaconda3\\lib\\site-packages (from pmdarima) (58.0.4)\n",
      "Requirement already satisfied: Cython!=0.29.18,!=0.29.31,>=0.29 in c:\\users\\vinis\\anaconda3\\lib\\site-packages (from pmdarima) (0.29.24)\n",
      "Requirement already satisfied: pandas>=0.19 in c:\\users\\vinis\\anaconda3\\lib\\site-packages (from pmdarima) (1.3.4)\n",
      "Requirement already satisfied: joblib>=0.11 in c:\\users\\vinis\\anaconda3\\lib\\site-packages (from pmdarima) (1.1.0)\n",
      "Requirement already satisfied: urllib3 in c:\\users\\vinis\\anaconda3\\lib\\site-packages (from pmdarima) (1.26.7)\n",
      "Requirement already satisfied: numpy>=1.21 in c:\\users\\vinis\\anaconda3\\lib\\site-packages (from pmdarima) (1.22.4)\n",
      "Requirement already satisfied: scikit-learn>=0.22 in c:\\users\\vinis\\anaconda3\\lib\\site-packages (from pmdarima) (1.0.2)\n",
      "Requirement already satisfied: scipy>=1.3.2 in c:\\users\\vinis\\anaconda3\\lib\\site-packages (from pmdarima) (1.7.1)\n",
      "Requirement already satisfied: statsmodels>=0.13.2 in c:\\users\\vinis\\anaconda3\\lib\\site-packages (from pmdarima) (0.13.2)\n",
      "Requirement already satisfied: python-dateutil>=2.7.3 in c:\\users\\vinis\\anaconda3\\lib\\site-packages (from pandas>=0.19->pmdarima) (2.8.2)\n",
      "Requirement already satisfied: pytz>=2017.3 in c:\\users\\vinis\\anaconda3\\lib\\site-packages (from pandas>=0.19->pmdarima) (2021.3)\n",
      "Requirement already satisfied: six>=1.5 in c:\\users\\vinis\\anaconda3\\lib\\site-packages (from python-dateutil>=2.7.3->pandas>=0.19->pmdarima) (1.16.0)\n",
      "Requirement already satisfied: threadpoolctl>=2.0.0 in c:\\users\\vinis\\anaconda3\\lib\\site-packages (from scikit-learn>=0.22->pmdarima) (2.2.0)\n",
      "Requirement already satisfied: packaging>=21.3 in c:\\users\\vinis\\anaconda3\\lib\\site-packages (from statsmodels>=0.13.2->pmdarima) (21.3)\n",
      "Requirement already satisfied: patsy>=0.5.2 in c:\\users\\vinis\\anaconda3\\lib\\site-packages (from statsmodels>=0.13.2->pmdarima) (0.5.2)\n",
      "Requirement already satisfied: pyparsing!=3.0.5,>=2.0.2 in c:\\users\\vinis\\anaconda3\\lib\\site-packages (from packaging>=21.3->statsmodels>=0.13.2->pmdarima) (3.0.4)\n",
      "Installing collected packages: pmdarima\n",
      "Successfully installed pmdarima-2.0.1\n",
      "Note: you may need to restart the kernel to use updated packages.\n"
     ]
    }
   ],
   "source": [
    "pip install pmdarima"
   ]
  },
  {
   "cell_type": "code",
   "execution_count": 64,
   "metadata": {
    "id": "HXu-GxfQ0y1p"
   },
   "outputs": [],
   "source": [
    "from pmdarima.arima import auto_arima"
   ]
  },
  {
   "cell_type": "code",
   "execution_count": 65,
   "metadata": {
    "colab": {
     "base_uri": "https://localhost:8080/"
    },
    "id": "pjOq9oCP0ym8",
    "outputId": "aaf284d7-51af-4024-c9e7-495ee6d78fae"
   },
   "outputs": [
    {
     "name": "stdout",
     "output_type": "stream",
     "text": [
      "Performing stepwise search to minimize aic\n",
      " ARIMA(0,1,0)(1,0,0)[12] intercept   : AIC=10092.911, Time=1.19 sec\n",
      " ARIMA(0,1,0)(0,0,0)[12] intercept   : AIC=10091.272, Time=0.11 sec\n",
      " ARIMA(1,1,0)(1,0,0)[12] intercept   : AIC=10094.154, Time=0.48 sec\n",
      " ARIMA(0,1,1)(0,0,1)[12] intercept   : AIC=10094.135, Time=0.81 sec\n",
      " ARIMA(0,1,0)(0,0,0)[12]             : AIC=10089.817, Time=0.06 sec\n",
      " ARIMA(0,1,0)(0,0,1)[12] intercept   : AIC=10092.922, Time=0.30 sec\n",
      " ARIMA(0,1,0)(1,0,1)[12] intercept   : AIC=10094.858, Time=1.20 sec\n",
      " ARIMA(1,1,0)(0,0,0)[12] intercept   : AIC=10092.473, Time=0.16 sec\n",
      " ARIMA(0,1,1)(0,0,0)[12] intercept   : AIC=10092.442, Time=0.46 sec\n",
      " ARIMA(1,1,1)(0,0,0)[12] intercept   : AIC=10094.330, Time=0.53 sec\n",
      "\n",
      "Best model:  ARIMA(0,1,0)(0,0,0)[12]          \n",
      "Total fit time: 5.552 seconds\n"
     ]
    }
   ],
   "source": [
    "arima_model = auto_arima(train_data.Open,start_p=0,d=1,start_q=0,max_p=5,start_Q=0,max_P=5,max_D=5,max_Q=5,m=12,seasonal=True,error_action='warn',trace=True,supress_warnings=True,stepwise=True,random_state=20,n_fits=50)"
   ]
  },
  {
   "cell_type": "code",
   "execution_count": 66,
   "metadata": {
    "id": "Y0cwXuD8ujGG"
   },
   "outputs": [],
   "source": [
    "## create a ARIMA model\n",
    "#from statsmodels.tsa.arima_model import ARIMA"
   ]
  },
  {
   "cell_type": "markdown",
   "metadata": {
    "id": "bA405K95-1to"
   },
   "source": [
    "# ARIMA Model"
   ]
  },
  {
   "cell_type": "code",
   "execution_count": 67,
   "metadata": {
    "id": "kgpRieMTSklb"
   },
   "outputs": [],
   "source": [
    "#import arima model\n",
    "import statsmodels.tsa.arima.model as stats"
   ]
  },
  {
   "cell_type": "code",
   "execution_count": 68,
   "metadata": {
    "id": "6eKFDlqmTlIb"
   },
   "outputs": [],
   "source": [
    "from sklearn.metrics import mean_squared_error"
   ]
  },
  {
   "cell_type": "code",
   "execution_count": 69,
   "metadata": {
    "id": "UZmzZUHyvSYc"
   },
   "outputs": [],
   "source": [
    "model_ARIMA=stats.ARIMA(train_data['Open'],order=(0,1,0),trend=\"t\") # Best model as per Auto_ARIM"
   ]
  },
  {
   "cell_type": "code",
   "execution_count": 70,
   "metadata": {
    "id": "i7WbclvvvYyU"
   },
   "outputs": [],
   "source": [
    "model_Arima_fit=model_ARIMA.fit()"
   ]
  },
  {
   "cell_type": "code",
   "execution_count": 71,
   "metadata": {
    "colab": {
     "base_uri": "https://localhost:8080/",
     "height": 409
    },
    "id": "X7TmhskEvctP",
    "outputId": "7393867d-afd9-41fc-b7e2-02844145e087"
   },
   "outputs": [
    {
     "data": {
      "text/html": [
       "<table class=\"simpletable\">\n",
       "<caption>SARIMAX Results</caption>\n",
       "<tr>\n",
       "  <th>Dep. Variable:</th>         <td>Open</td>       <th>  No. Observations:  </th>   <td>1000</td>   \n",
       "</tr>\n",
       "<tr>\n",
       "  <th>Model:</th>            <td>ARIMA(0, 1, 0)</td>  <th>  Log Likelihood     </th> <td>-5043.636</td>\n",
       "</tr>\n",
       "<tr>\n",
       "  <th>Date:</th>            <td>Sun, 11 Sep 2022</td> <th>  AIC                </th> <td>10091.272</td>\n",
       "</tr>\n",
       "<tr>\n",
       "  <th>Time:</th>                <td>12:43:44</td>     <th>  BIC                </th> <td>10101.085</td>\n",
       "</tr>\n",
       "<tr>\n",
       "  <th>Sample:</th>                  <td>0</td>        <th>  HQIC               </th> <td>10095.002</td>\n",
       "</tr>\n",
       "<tr>\n",
       "  <th></th>                      <td> - 1000</td>     <th>                     </th>     <td> </td>    \n",
       "</tr>\n",
       "<tr>\n",
       "  <th>Covariance Type:</th>        <td>opg</td>       <th>                     </th>     <td> </td>    \n",
       "</tr>\n",
       "</table>\n",
       "<table class=\"simpletable\">\n",
       "<tr>\n",
       "     <td></td>       <th>coef</th>     <th>std err</th>      <th>z</th>      <th>P>|z|</th>  <th>[0.025</th>    <th>0.975]</th>  \n",
       "</tr>\n",
       "<tr>\n",
       "  <th>x1</th>     <td>    0.8804</td> <td>    1.587</td> <td>    0.555</td> <td> 0.579</td> <td>   -2.230</td> <td>    3.991</td>\n",
       "</tr>\n",
       "<tr>\n",
       "  <th>sigma2</th> <td> 1421.5449</td> <td>    8.285</td> <td>  171.575</td> <td> 0.000</td> <td> 1405.306</td> <td> 1437.784</td>\n",
       "</tr>\n",
       "</table>\n",
       "<table class=\"simpletable\">\n",
       "<tr>\n",
       "  <th>Ljung-Box (L1) (Q):</th>     <td>0.80</td> <th>  Jarque-Bera (JB):  </th> <td>1791544.50</td>\n",
       "</tr>\n",
       "<tr>\n",
       "  <th>Prob(Q):</th>                <td>0.37</td> <th>  Prob(JB):          </th>    <td>0.00</td>   \n",
       "</tr>\n",
       "<tr>\n",
       "  <th>Heteroskedasticity (H):</th> <td>0.66</td> <th>  Skew:              </th>    <td>-9.52</td>  \n",
       "</tr>\n",
       "<tr>\n",
       "  <th>Prob(H) (two-sided):</th>    <td>0.00</td> <th>  Kurtosis:          </th>   <td>209.58</td>  \n",
       "</tr>\n",
       "</table><br/><br/>Warnings:<br/>[1] Covariance matrix calculated using the outer product of gradients (complex-step)."
      ],
      "text/plain": [
       "<class 'statsmodels.iolib.summary.Summary'>\n",
       "\"\"\"\n",
       "                               SARIMAX Results                                \n",
       "==============================================================================\n",
       "Dep. Variable:                   Open   No. Observations:                 1000\n",
       "Model:                 ARIMA(0, 1, 0)   Log Likelihood               -5043.636\n",
       "Date:                Sun, 11 Sep 2022   AIC                          10091.272\n",
       "Time:                        12:43:44   BIC                          10101.085\n",
       "Sample:                             0   HQIC                         10095.002\n",
       "                               - 1000                                         \n",
       "Covariance Type:                  opg                                         \n",
       "==============================================================================\n",
       "                 coef    std err          z      P>|z|      [0.025      0.975]\n",
       "------------------------------------------------------------------------------\n",
       "x1             0.8804      1.587      0.555      0.579      -2.230       3.991\n",
       "sigma2      1421.5449      8.285    171.575      0.000    1405.306    1437.784\n",
       "===================================================================================\n",
       "Ljung-Box (L1) (Q):                   0.80   Jarque-Bera (JB):           1791544.50\n",
       "Prob(Q):                              0.37   Prob(JB):                         0.00\n",
       "Heteroskedasticity (H):               0.66   Skew:                            -9.52\n",
       "Prob(H) (two-sided):                  0.00   Kurtosis:                       209.58\n",
       "===================================================================================\n",
       "\n",
       "Warnings:\n",
       "[1] Covariance matrix calculated using the outer product of gradients (complex-step).\n",
       "\"\"\""
      ]
     },
     "execution_count": 71,
     "metadata": {},
     "output_type": "execute_result"
    }
   ],
   "source": [
    "model_Arima_fit.summary()"
   ]
  },
  {
   "cell_type": "code",
   "execution_count": 72,
   "metadata": {
    "id": "OlBlWJ-Pv21f"
   },
   "outputs": [],
   "source": [
    "### make prediction on test set\n",
    "start = len(test_data)\n",
    "end = len(train_data)+len(test_data)-1\n",
    "\n",
    "\n",
    "pred=model_Arima_fit.predict(start=start,end=end)\n",
    "residuals=test_data['Open']-pred"
   ]
  },
  {
   "cell_type": "code",
   "execution_count": 73,
   "metadata": {
    "colab": {
     "base_uri": "https://localhost:8080/"
    },
    "id": "NefUsWxGv_aK",
    "outputId": "e324e2e8-9575-492c-dd7f-2b5ad253b54b"
   },
   "outputs": [
    {
     "data": {
      "text/plain": [
       "284      930.880426\n",
       "285      922.880426\n",
       "286      926.280426\n",
       "287      939.880426\n",
       "288      939.880426\n",
       "           ...     \n",
       "1279    2210.069148\n",
       "1280    2210.949573\n",
       "1281    2211.829999\n",
       "1282    2212.710424\n",
       "1283    2213.590850\n",
       "Name: predicted_mean, Length: 1000, dtype: float64"
      ]
     },
     "execution_count": 73,
     "metadata": {},
     "output_type": "execute_result"
    }
   ],
   "source": [
    "pred"
   ]
  },
  {
   "cell_type": "code",
   "execution_count": 74,
   "metadata": {
    "colab": {
     "base_uri": "https://localhost:8080/"
    },
    "id": "2ao1C5wiwBkh",
    "outputId": "5579a887-8d45-41dc-ed19-a7fe84648447"
   },
   "outputs": [
    {
     "data": {
      "text/plain": [
       "284            NaN\n",
       "285            NaN\n",
       "286            NaN\n",
       "287            NaN\n",
       "288            NaN\n",
       "           ...    \n",
       "1279    124.380852\n",
       "1280    189.050427\n",
       "1281    141.170001\n",
       "1282     65.989576\n",
       "1283     -2.090850\n",
       "Length: 1000, dtype: float64"
      ]
     },
     "execution_count": 74,
     "metadata": {},
     "output_type": "execute_result"
    }
   ],
   "source": [
    "residuals"
   ]
  },
  {
   "cell_type": "code",
   "execution_count": 75,
   "metadata": {
    "colab": {
     "base_uri": "https://localhost:8080/",
     "height": 281
    },
    "id": "XBXXrZ_NIeO0",
    "outputId": "5ef842e5-4464-4bd4-8be4-7b96087d1a0d"
   },
   "outputs": [
    {
     "data": {
      "image/png": "[encoded data removed]",
      "text/plain": [
       "<Figure size 432x288 with 2 Axes>"
      ]
     },
     "metadata": {
      "needs_background": "light"
     },
     "output_type": "display_data"
    }
   ],
   "source": [
    "# Plot residual errors\n",
    "fig, ax = plt.subplots(1,2)\n",
    "residuals.plot(title=\"Residuals\", ax=ax[0])\n",
    "residuals.plot(kind='kde', title='Density', ax=ax[1])\n",
    "plt.show()"
   ]
  },
  {
   "cell_type": "code",
   "execution_count": 76,
   "metadata": {
    "colab": {
     "base_uri": "https://localhost:8080/",
     "height": 286
    },
    "id": "IbCr0vYswGyd",
    "outputId": "b4f63afa-4203-4a10-f58d-8452dc1817f4"
   },
   "outputs": [
    {
     "data": {
      "text/plain": [
       "<AxesSubplot:ylabel='Density'>"
      ]
     },
     "execution_count": 76,
     "metadata": {},
     "output_type": "execute_result"
    },
    {
     "data": {
      "image/png": "[encoded data removed]",
      "text/plain": [
       "<Figure size 432x288 with 1 Axes>"
      ]
     },
     "metadata": {
      "needs_background": "light"
     },
     "output_type": "display_data"
    }
   ],
   "source": [
    "model_Arima_fit.resid.plot(kind='kde')"
   ]
  },
  {
   "cell_type": "code",
   "execution_count": 77,
   "metadata": {
    "colab": {
     "base_uri": "https://localhost:8080/"
    },
    "id": "mfon6ZTswL17",
    "outputId": "c2c79056-2466-452b-9e4c-4f03b7716034"
   },
   "outputs": [],
   "source": [
    "test_data['Predicted_ARIMA']=pred"
   ]
  },
  {
   "cell_type": "code",
   "execution_count": 78,
   "metadata": {
    "colab": {
     "base_uri": "https://localhost:8080/",
     "height": 672
    },
    "id": "v51SXX_pxjpd",
    "outputId": "afae90aa-a76f-4f7f-c2a6-e45b69aaa197"
   },
   "outputs": [
    {
     "data": {
      "text/html": [
       "<div>\n",
       "<style scoped>\n",
       "    .dataframe tbody tr th:only-of-type {\n",
       "        vertical-align: middle;\n",
       "    }\n",
       "\n",
       "    .dataframe tbody tr th {\n",
       "        vertical-align: top;\n",
       "    }\n",
       "\n",
       "    .dataframe thead th {\n",
       "        text-align: right;\n",
       "    }\n",
       "</style>\n",
       "<table border=\"1\" class=\"dataframe\">\n",
       "  <thead>\n",
       "    <tr style=\"text-align: right;\">\n",
       "      <th></th>\n",
       "      <th>Date</th>\n",
       "      <th>Open</th>\n",
       "      <th>First_Difference_Open</th>\n",
       "      <th>12_Difference_open</th>\n",
       "      <th>Predicted_ARIMA</th>\n",
       "    </tr>\n",
       "  </thead>\n",
       "  <tbody>\n",
       "    <tr>\n",
       "      <th>1000</th>\n",
       "      <td>2021-01-14</td>\n",
       "      <td>1945.00</td>\n",
       "      <td>-18.55</td>\n",
       "      <td>-64.00</td>\n",
       "      <td>1964.430426</td>\n",
       "    </tr>\n",
       "    <tr>\n",
       "      <th>1001</th>\n",
       "      <td>2021-01-15</td>\n",
       "      <td>1960.60</td>\n",
       "      <td>15.60</td>\n",
       "      <td>-34.65</td>\n",
       "      <td>1965.310851</td>\n",
       "    </tr>\n",
       "    <tr>\n",
       "      <th>1002</th>\n",
       "      <td>2021-01-18</td>\n",
       "      <td>1949.10</td>\n",
       "      <td>-11.50</td>\n",
       "      <td>-44.40</td>\n",
       "      <td>1966.191277</td>\n",
       "    </tr>\n",
       "    <tr>\n",
       "      <th>1003</th>\n",
       "      <td>2021-01-19</td>\n",
       "      <td>1994.65</td>\n",
       "      <td>45.55</td>\n",
       "      <td>6.65</td>\n",
       "      <td>1967.071702</td>\n",
       "    </tr>\n",
       "    <tr>\n",
       "      <th>1004</th>\n",
       "      <td>2021-01-20</td>\n",
       "      <td>2021.40</td>\n",
       "      <td>26.75</td>\n",
       "      <td>26.30</td>\n",
       "      <td>1967.952128</td>\n",
       "    </tr>\n",
       "    <tr>\n",
       "      <th>...</th>\n",
       "      <td>...</td>\n",
       "      <td>...</td>\n",
       "      <td>...</td>\n",
       "      <td>...</td>\n",
       "      <td>...</td>\n",
       "    </tr>\n",
       "    <tr>\n",
       "      <th>1279</th>\n",
       "      <td>2022-03-02</td>\n",
       "      <td>2334.45</td>\n",
       "      <td>91.45</td>\n",
       "      <td>-38.80</td>\n",
       "      <td>2210.069148</td>\n",
       "    </tr>\n",
       "    <tr>\n",
       "      <th>1280</th>\n",
       "      <td>2022-03-03</td>\n",
       "      <td>2400.00</td>\n",
       "      <td>65.55</td>\n",
       "      <td>59.75</td>\n",
       "      <td>2210.949573</td>\n",
       "    </tr>\n",
       "    <tr>\n",
       "      <th>1281</th>\n",
       "      <td>2022-03-04</td>\n",
       "      <td>2353.00</td>\n",
       "      <td>-47.00</td>\n",
       "      <td>1.80</td>\n",
       "      <td>2211.829999</td>\n",
       "    </tr>\n",
       "    <tr>\n",
       "      <th>1282</th>\n",
       "      <td>2022-03-07</td>\n",
       "      <td>2278.70</td>\n",
       "      <td>-74.30</td>\n",
       "      <td>-151.30</td>\n",
       "      <td>2212.710424</td>\n",
       "    </tr>\n",
       "    <tr>\n",
       "      <th>1283</th>\n",
       "      <td>2022-03-08</td>\n",
       "      <td>2211.50</td>\n",
       "      <td>-67.20</td>\n",
       "      <td>-208.60</td>\n",
       "      <td>2213.590850</td>\n",
       "    </tr>\n",
       "  </tbody>\n",
       "</table>\n",
       "<p>284 rows × 5 columns</p>\n",
       "</div>"
      ],
      "text/plain": [
       "           Date     Open  First_Difference_Open  12_Difference_open  \\\n",
       "1000 2021-01-14  1945.00                 -18.55              -64.00   \n",
       "1001 2021-01-15  1960.60                  15.60              -34.65   \n",
       "1002 2021-01-18  1949.10                 -11.50              -44.40   \n",
       "1003 2021-01-19  1994.65                  45.55                6.65   \n",
       "1004 2021-01-20  2021.40                  26.75               26.30   \n",
       "...         ...      ...                    ...                 ...   \n",
       "1279 2022-03-02  2334.45                  91.45              -38.80   \n",
       "1280 2022-03-03  2400.00                  65.55               59.75   \n",
       "1281 2022-03-04  2353.00                 -47.00                1.80   \n",
       "1282 2022-03-07  2278.70                 -74.30             -151.30   \n",
       "1283 2022-03-08  2211.50                 -67.20             -208.60   \n",
       "\n",
       "      Predicted_ARIMA  \n",
       "1000      1964.430426  \n",
       "1001      1965.310851  \n",
       "1002      1966.191277  \n",
       "1003      1967.071702  \n",
       "1004      1967.952128  \n",
       "...               ...  \n",
       "1279      2210.069148  \n",
       "1280      2210.949573  \n",
       "1281      2211.829999  \n",
       "1282      2212.710424  \n",
       "1283      2213.590850  \n",
       "\n",
       "[284 rows x 5 columns]"
      ]
     },
     "execution_count": 78,
     "metadata": {},
     "output_type": "execute_result"
    },
    {
     "data": {
      "image/png": "[encoded data removed]",
      "text/plain": [
       "<Figure size 432x288 with 1 Axes>"
      ]
     },
     "metadata": {
      "needs_background": "light"
     },
     "output_type": "display_data"
    }
   ],
   "source": [
    "test_data[['Open','Predicted_ARIMA']].plot()\n",
    "test_data"
   ]
  },
  {
   "cell_type": "code",
   "execution_count": 79,
   "metadata": {
    "colab": {
     "base_uri": "https://localhost:8080/",
     "height": 600
    },
    "id": "kmPZdFtfxo9s",
    "outputId": "8edf3c32-3fe4-4406-ae53-dfc3a8f0ef0e"
   },
   "outputs": [
    {
     "data": {
      "image/png": "[encoded data removed]",
      "text/plain": [
       "<Figure size 432x288 with 1 Axes>"
      ]
     },
     "metadata": {
      "needs_background": "light"
     },
     "output_type": "display_data"
    },
    {
     "data": {
      "image/png": "[encoded data removed]",
      "text/plain": [
       "<Figure size 432x288 with 1 Axes>"
      ]
     },
     "metadata": {
      "needs_background": "light"
     },
     "output_type": "display_data"
    }
   ],
   "source": [
    "acf12 = plot_acf(df1[\"12_Difference_open\"].dropna())\n",
    "pacf12 = plot_pacf(df1[\"12_Difference_open\"].dropna())"
   ]
  },
  {
   "cell_type": "markdown",
   "metadata": {
    "id": "ajUscpIe_J8W"
   },
   "source": [
    "# SARIMA Model"
   ]
  },
  {
   "cell_type": "code",
   "execution_count": 80,
   "metadata": {
    "id": "14XkHjf2yBVW"
   },
   "outputs": [],
   "source": [
    "## create a SARIMA model\n",
    "from statsmodels.tsa.statespace.sarimax import SARIMAX"
   ]
  },
  {
   "cell_type": "code",
   "execution_count": 81,
   "metadata": {
    "id": "17FYHqEeyI8s"
   },
   "outputs": [],
   "source": [
    "#model_SARIMA=SARIMAX(train_data['Open'],order=(9,0,15))\n",
    "#model_SARIMA=SARIMAX(train_data['Open'],order=(2,0,0))\n",
    "#model_SARIMA=SARIMAX(train_data['Open'],order=(9,1,14))\n",
    "#model_SARIMA=SARIMAX(train_data['Open'],order=(0,1,0),seasonal_order=(0,0,0,0)) - only best for arima not sarima\n",
    "model_SARIMA=SARIMAX(train_data['Open'],order=(9,1,14),seasonal_order=(0,1,0,12))"
   ]
  },
  {
   "cell_type": "code",
   "execution_count": 82,
   "metadata": {
    "colab": {
     "base_uri": "https://localhost:8080/"
    },
    "id": "l_0iqjyxyNse",
    "outputId": "c435450a-1539-4089-d816-344494a7665d"
   },
   "outputs": [
    {
     "name": "stderr",
     "output_type": "stream",
     "text": [
      "C:\\Users\\vinis\\Anaconda3\\lib\\site-packages\\statsmodels\\base\\model.py:604: ConvergenceWarning: Maximum Likelihood optimization failed to converge. Check mle_retvals\n",
      "  warnings.warn(\"Maximum Likelihood optimization failed to \"\n"
     ]
    }
   ],
   "source": [
    "model_SARIMA_fit=model_SARIMA.fit()"
   ]
  },
  {
   "cell_type": "code",
   "execution_count": 83,
   "metadata": {
    "colab": {
     "base_uri": "https://localhost:8080/",
     "height": 879
    },
    "id": "NzyZTVS3yPt2",
    "outputId": "55dc283a-b281-442d-ebe6-318fbc62e794"
   },
   "outputs": [
    {
     "data": {
      "text/html": [
       "<table class=\"simpletable\">\n",
       "<caption>SARIMAX Results</caption>\n",
       "<tr>\n",
       "  <th>Dep. Variable:</th>                 <td>Open</td>               <th>  No. Observations:  </th>   <td>1000</td>   \n",
       "</tr>\n",
       "<tr>\n",
       "  <th>Model:</th>           <td>SARIMAX(9, 1, 14)x(0, 1, [], 12)</td> <th>  Log Likelihood     </th> <td>-5016.292</td>\n",
       "</tr>\n",
       "<tr>\n",
       "  <th>Date:</th>                    <td>Sun, 11 Sep 2022</td>         <th>  AIC                </th> <td>10080.584</td>\n",
       "</tr>\n",
       "<tr>\n",
       "  <th>Time:</th>                        <td>12:48:14</td>             <th>  BIC                </th> <td>10198.056</td>\n",
       "</tr>\n",
       "<tr>\n",
       "  <th>Sample:</th>                          <td>0</td>                <th>  HQIC               </th> <td>10125.260</td>\n",
       "</tr>\n",
       "<tr>\n",
       "  <th></th>                              <td> - 1000</td>             <th>                     </th>     <td> </td>    \n",
       "</tr>\n",
       "<tr>\n",
       "  <th>Covariance Type:</th>                <td>opg</td>               <th>                     </th>     <td> </td>    \n",
       "</tr>\n",
       "</table>\n",
       "<table class=\"simpletable\">\n",
       "<tr>\n",
       "     <td></td>       <th>coef</th>     <th>std err</th>      <th>z</th>      <th>P>|z|</th>  <th>[0.025</th>    <th>0.975]</th>  \n",
       "</tr>\n",
       "<tr>\n",
       "  <th>ar.L1</th>  <td>   -0.2088</td> <td>  106.143</td> <td>   -0.002</td> <td> 0.998</td> <td> -208.244</td> <td>  207.827</td>\n",
       "</tr>\n",
       "<tr>\n",
       "  <th>ar.L2</th>  <td>    0.5878</td> <td>   75.032</td> <td>    0.008</td> <td> 0.994</td> <td> -146.472</td> <td>  147.647</td>\n",
       "</tr>\n",
       "<tr>\n",
       "  <th>ar.L3</th>  <td>   -0.0674</td> <td>    6.774</td> <td>   -0.010</td> <td> 0.992</td> <td>  -13.345</td> <td>   13.210</td>\n",
       "</tr>\n",
       "<tr>\n",
       "  <th>ar.L4</th>  <td>   -0.0021</td> <td>    0.944</td> <td>   -0.002</td> <td> 0.998</td> <td>   -1.852</td> <td>    1.847</td>\n",
       "</tr>\n",
       "<tr>\n",
       "  <th>ar.L5</th>  <td>   -0.0290</td> <td>    0.616</td> <td>   -0.047</td> <td> 0.962</td> <td>   -1.237</td> <td>    1.179</td>\n",
       "</tr>\n",
       "<tr>\n",
       "  <th>ar.L6</th>  <td>    0.0360</td> <td>    3.667</td> <td>    0.010</td> <td> 0.992</td> <td>   -7.151</td> <td>    7.223</td>\n",
       "</tr>\n",
       "<tr>\n",
       "  <th>ar.L7</th>  <td>    0.0375</td> <td>    7.173</td> <td>    0.005</td> <td> 0.996</td> <td>  -14.022</td> <td>   14.097</td>\n",
       "</tr>\n",
       "<tr>\n",
       "  <th>ar.L8</th>  <td>    0.0065</td> <td>    2.612</td> <td>    0.002</td> <td> 0.998</td> <td>   -5.114</td> <td>    5.127</td>\n",
       "</tr>\n",
       "<tr>\n",
       "  <th>ar.L9</th>  <td>    0.0267</td> <td>    3.107</td> <td>    0.009</td> <td> 0.993</td> <td>   -6.063</td> <td>    6.117</td>\n",
       "</tr>\n",
       "<tr>\n",
       "  <th>ma.L1</th>  <td>    0.2434</td> <td>  106.068</td> <td>    0.002</td> <td> 0.998</td> <td> -207.647</td> <td>  208.134</td>\n",
       "</tr>\n",
       "<tr>\n",
       "  <th>ma.L2</th>  <td>   -0.6132</td> <td>   71.301</td> <td>   -0.009</td> <td> 0.993</td> <td> -140.361</td> <td>  139.134</td>\n",
       "</tr>\n",
       "<tr>\n",
       "  <th>ma.L3</th>  <td>    0.0073</td> <td>    1.496</td> <td>    0.005</td> <td> 0.996</td> <td>   -2.924</td> <td>    2.939</td>\n",
       "</tr>\n",
       "<tr>\n",
       "  <th>ma.L4</th>  <td>    0.0085</td> <td>    0.491</td> <td>    0.017</td> <td> 0.986</td> <td>   -0.953</td> <td>    0.970</td>\n",
       "</tr>\n",
       "<tr>\n",
       "  <th>ma.L5</th>  <td>   -0.0003</td> <td>    1.104</td> <td>   -0.000</td> <td> 1.000</td> <td>   -2.164</td> <td>    2.164</td>\n",
       "</tr>\n",
       "<tr>\n",
       "  <th>ma.L6</th>  <td>   -0.0056</td> <td>    1.501</td> <td>   -0.004</td> <td> 0.997</td> <td>   -2.948</td> <td>    2.936</td>\n",
       "</tr>\n",
       "<tr>\n",
       "  <th>ma.L7</th>  <td>   -0.0002</td> <td>    0.349</td> <td>   -0.001</td> <td> 0.999</td> <td>   -0.685</td> <td>    0.685</td>\n",
       "</tr>\n",
       "<tr>\n",
       "  <th>ma.L8</th>  <td>   -0.0083</td> <td>    0.844</td> <td>   -0.010</td> <td> 0.992</td> <td>   -1.663</td> <td>    1.646</td>\n",
       "</tr>\n",
       "<tr>\n",
       "  <th>ma.L9</th>  <td>   -0.0062</td> <td>    1.340</td> <td>   -0.005</td> <td> 0.996</td> <td>   -2.633</td> <td>    2.621</td>\n",
       "</tr>\n",
       "<tr>\n",
       "  <th>ma.L10</th> <td>    0.0009</td> <td>    0.460</td> <td>    0.002</td> <td> 0.999</td> <td>   -0.901</td> <td>    0.902</td>\n",
       "</tr>\n",
       "<tr>\n",
       "  <th>ma.L11</th> <td>    0.0041</td> <td>    0.860</td> <td>    0.005</td> <td> 0.996</td> <td>   -1.682</td> <td>    1.690</td>\n",
       "</tr>\n",
       "<tr>\n",
       "  <th>ma.L12</th> <td>   -0.9950</td> <td>    1.215</td> <td>   -0.819</td> <td> 0.413</td> <td>   -3.376</td> <td>    1.386</td>\n",
       "</tr>\n",
       "<tr>\n",
       "  <th>ma.L13</th> <td>   -0.2450</td> <td>  105.961</td> <td>   -0.002</td> <td> 0.998</td> <td> -207.925</td> <td>  207.435</td>\n",
       "</tr>\n",
       "<tr>\n",
       "  <th>ma.L14</th> <td>    0.6172</td> <td>   71.101</td> <td>    0.009</td> <td> 0.993</td> <td> -138.739</td> <td>  139.973</td>\n",
       "</tr>\n",
       "<tr>\n",
       "  <th>sigma2</th> <td> 1772.8576</td> <td> 1539.347</td> <td>    1.152</td> <td> 0.249</td> <td>-1244.207</td> <td> 4789.922</td>\n",
       "</tr>\n",
       "</table>\n",
       "<table class=\"simpletable\">\n",
       "<tr>\n",
       "  <th>Ljung-Box (L1) (Q):</th>     <td>0.02</td> <th>  Jarque-Bera (JB):  </th> <td>1440112.16</td>\n",
       "</tr>\n",
       "<tr>\n",
       "  <th>Prob(Q):</th>                <td>0.89</td> <th>  Prob(JB):          </th>    <td>0.00</td>   \n",
       "</tr>\n",
       "<tr>\n",
       "  <th>Heteroskedasticity (H):</th> <td>0.65</td> <th>  Skew:              </th>    <td>-8.86</td>  \n",
       "</tr>\n",
       "<tr>\n",
       "  <th>Prob(H) (two-sided):</th>    <td>0.00</td> <th>  Kurtosis:          </th>   <td>189.29</td>  \n",
       "</tr>\n",
       "</table><br/><br/>Warnings:<br/>[1] Covariance matrix calculated using the outer product of gradients (complex-step)."
      ],
      "text/plain": [
       "<class 'statsmodels.iolib.summary.Summary'>\n",
       "\"\"\"\n",
       "                                      SARIMAX Results                                       \n",
       "============================================================================================\n",
       "Dep. Variable:                                 Open   No. Observations:                 1000\n",
       "Model:             SARIMAX(9, 1, 14)x(0, 1, [], 12)   Log Likelihood               -5016.292\n",
       "Date:                              Sun, 11 Sep 2022   AIC                          10080.584\n",
       "Time:                                      12:48:14   BIC                          10198.056\n",
       "Sample:                                           0   HQIC                         10125.260\n",
       "                                             - 1000                                         \n",
       "Covariance Type:                                opg                                         \n",
       "==============================================================================\n",
       "                 coef    std err          z      P>|z|      [0.025      0.975]\n",
       "------------------------------------------------------------------------------\n",
       "ar.L1         -0.2088    106.143     -0.002      0.998    -208.244     207.827\n",
       "ar.L2          0.5878     75.032      0.008      0.994    -146.472     147.647\n",
       "ar.L3         -0.0674      6.774     -0.010      0.992     -13.345      13.210\n",
       "ar.L4         -0.0021      0.944     -0.002      0.998      -1.852       1.847\n",
       "ar.L5         -0.0290      0.616     -0.047      0.962      -1.237       1.179\n",
       "ar.L6          0.0360      3.667      0.010      0.992      -7.151       7.223\n",
       "ar.L7          0.0375      7.173      0.005      0.996     -14.022      14.097\n",
       "ar.L8          0.0065      2.612      0.002      0.998      -5.114       5.127\n",
       "ar.L9          0.0267      3.107      0.009      0.993      -6.063       6.117\n",
       "ma.L1          0.2434    106.068      0.002      0.998    -207.647     208.134\n",
       "ma.L2         -0.6132     71.301     -0.009      0.993    -140.361     139.134\n",
       "ma.L3          0.0073      1.496      0.005      0.996      -2.924       2.939\n",
       "ma.L4          0.0085      0.491      0.017      0.986      -0.953       0.970\n",
       "ma.L5         -0.0003      1.104     -0.000      1.000      -2.164       2.164\n",
       "ma.L6         -0.0056      1.501     -0.004      0.997      -2.948       2.936\n",
       "ma.L7         -0.0002      0.349     -0.001      0.999      -0.685       0.685\n",
       "ma.L8         -0.0083      0.844     -0.010      0.992      -1.663       1.646\n",
       "ma.L9         -0.0062      1.340     -0.005      0.996      -2.633       2.621\n",
       "ma.L10         0.0009      0.460      0.002      0.999      -0.901       0.902\n",
       "ma.L11         0.0041      0.860      0.005      0.996      -1.682       1.690\n",
       "ma.L12        -0.9950      1.215     -0.819      0.413      -3.376       1.386\n",
       "ma.L13        -0.2450    105.961     -0.002      0.998    -207.925     207.435\n",
       "ma.L14         0.6172     71.101      0.009      0.993    -138.739     139.973\n",
       "sigma2      1772.8576   1539.347      1.152      0.249   -1244.207    4789.922\n",
       "===================================================================================\n",
       "Ljung-Box (L1) (Q):                   0.02   Jarque-Bera (JB):           1440112.16\n",
       "Prob(Q):                              0.89   Prob(JB):                         0.00\n",
       "Heteroskedasticity (H):               0.65   Skew:                            -8.86\n",
       "Prob(H) (two-sided):                  0.00   Kurtosis:                       189.29\n",
       "===================================================================================\n",
       "\n",
       "Warnings:\n",
       "[1] Covariance matrix calculated using the outer product of gradients (complex-step).\n",
       "\"\"\""
      ]
     },
     "execution_count": 83,
     "metadata": {},
     "output_type": "execute_result"
    }
   ],
   "source": [
    "model_SARIMA_fit.summary()"
   ]
  },
  {
   "cell_type": "code",
   "execution_count": 84,
   "metadata": {
    "colab": {
     "base_uri": "https://localhost:8080/"
    },
    "id": "FqzF4Ct2ySjS",
    "outputId": "bab261d0-4da0-4e53-b1f8-523be4120ff4"
   },
   "outputs": [
    {
     "name": "stdout",
     "output_type": "stream",
     "text": [
      "2021-01-14 00:00:00\n",
      "2022-03-08 00:00:00\n"
     ]
    }
   ],
   "source": [
    "##prediction\n",
    "pred_start_date=test_data.Date.iloc[0]\n",
    "pred_end_date=test_data.Date.iloc[-1]\n",
    "print(pred_start_date)\n",
    "print(pred_end_date)"
   ]
  },
  {
   "cell_type": "code",
   "execution_count": 85,
   "metadata": {
    "id": "QOifBh_rydUa"
   },
   "outputs": [],
   "source": [
    "start = len(test_data)\n",
    "end = len(train_data)+len(test_data)-1\n",
    "\n",
    "pred_Sarima=model_SARIMA_fit.predict(start=start,end=end)\n",
    "residuals=test_data['Open']-pred_Sarima"
   ]
  },
  {
   "cell_type": "code",
   "execution_count": 86,
   "metadata": {
    "colab": {
     "base_uri": "https://localhost:8080/",
     "height": 282
    },
    "id": "W-Y7nQ0IygbZ",
    "outputId": "15e94465-b51a-48bc-837b-8ca97d9f3b1d"
   },
   "outputs": [
    {
     "data": {
      "text/plain": [
       "<AxesSubplot:>"
      ]
     },
     "execution_count": 86,
     "metadata": {},
     "output_type": "execute_result"
    },
    {
     "data": {
      "image/png": "[encoded data removed]",
      "text/plain": [
       "<Figure size 432x288 with 1 Axes>"
      ]
     },
     "metadata": {
      "needs_background": "light"
     },
     "output_type": "display_data"
    }
   ],
   "source": [
    "model_SARIMA_fit.resid.plot()"
   ]
  },
  {
   "cell_type": "code",
   "execution_count": 87,
   "metadata": {
    "colab": {
     "base_uri": "https://localhost:8080/",
     "height": 285
    },
    "id": "NUZA9wwAyvje",
    "outputId": "4de0b520-455a-49d2-fd8d-cd9ca5a6ae8d"
   },
   "outputs": [
    {
     "data": {
      "text/plain": [
       "<AxesSubplot:ylabel='Density'>"
      ]
     },
     "execution_count": 87,
     "metadata": {},
     "output_type": "execute_result"
    },
    {
     "data": {
      "image/png": "[encoded data removed]",
      "text/plain": [
       "<Figure size 432x288 with 1 Axes>"
      ]
     },
     "metadata": {
      "needs_background": "light"
     },
     "output_type": "display_data"
    }
   ],
   "source": [
    "model_SARIMA_fit.resid.plot(kind='kde')"
   ]
  },
  {
   "cell_type": "code",
   "execution_count": 88,
   "metadata": {
    "colab": {
     "base_uri": "https://localhost:8080/"
    },
    "id": "TZRUAz1MyysQ",
    "outputId": "2c3ca334-fa2b-47be-982e-195c65a93285"
   },
   "outputs": [],
   "source": [
    "test_data['Predicted_SARIMA']=pred_Sarima"
   ]
  },
  {
   "cell_type": "code",
   "execution_count": 89,
   "metadata": {
    "colab": {
     "base_uri": "https://localhost:8080/",
     "height": 282
    },
    "id": "A0SYSroDy2Ms",
    "outputId": "2b0df4f9-c0bc-43b5-bbe1-cf66873d2f1f"
   },
   "outputs": [
    {
     "data": {
      "text/plain": [
       "<AxesSubplot:>"
      ]
     },
     "execution_count": 89,
     "metadata": {},
     "output_type": "execute_result"
    },
    {
     "data": {
      "image/png": "[encoded data removed]",
      "text/plain": [
       "<Figure size 432x288 with 1 Axes>"
      ]
     },
     "metadata": {
      "needs_background": "light"
     },
     "output_type": "display_data"
    }
   ],
   "source": [
    "test_data[['Open','Predicted_SARIMA','Predicted_ARIMA']].plot()"
   ]
  },
  {
   "cell_type": "code",
   "execution_count": null,
   "metadata": {
    "id": "IUR5PKVhE1sr"
   },
   "outputs": [],
   "source": []
  }
 ],
 "metadata": {
  "accelerator": "GPU",
  "colab": {
   "collapsed_sections": [],
   "name": "Auto_arima_ARIMA_SARIMA.ipynb",
   "provenance": []
  },
  "kernelspec": {
   "display_name": "Python 3 (ipykernel)",
   "language": "python",
   "name": "python3"
  },
  "language_info": {
   "codemirror_mode": {
    "name": "ipython",
    "version": 3
   },
   "file_extension": ".py",
   "mimetype": "text/x-python",
   "name": "python",
   "nbconvert_exporter": "python",
   "pygments_lexer": "ipython3",
   "version": "3.9.7"
  }
 },
 "nbformat": 4,
 "nbformat_minor": 1
}
